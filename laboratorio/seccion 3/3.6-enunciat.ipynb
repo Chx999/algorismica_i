{
 "cells": [
  {
   "cell_type": "markdown",
   "metadata": {
    "id": "Tq8bG1MNUhzi"
   },
   "source": [
    "# 📖 Tema 3 - Algorismes numèrics"
   ]
  },
  {
   "cell_type": "markdown",
   "metadata": {
    "id": "tCtf0jLsUhzy"
   },
   "source": [
    "## 🧠 La validació del NIF amb aritmètica modular "
   ]
  },
  {
   "cell_type": "markdown",
   "metadata": {},
   "source": [
    "L'última lletra del NIF es calcula a partir dels nombres del DNI. Per fer-ho, s'ha de dividir el número entre 23 i quedar-se amb la resta, que és un nombre entre 0 i 22. Llavors s'aplica la taula següent per transformar aquest nombre en una lletra.\n",
    "\n",
    "| Resta | Lletra | Resta | Lletra |\n",
    "| --- | --- | --- | --- |\n",
    "| 0 | T | 12 | N |\n",
    "| 1 | R | 13 | J |\n",
    "| 2 | W | 14 | Z |\n",
    "| 3 | A | 15 | S |\n",
    "| 4 | G | 16 | Q |\n",
    "| 5 | M | 17 | V |\n",
    "| 6 | Y | 18 | H |\n",
    "| 7 | F | 19 | L |\n",
    "| 8 | P | 20 | C |\n",
    "| 9 | D | 21 | K |\n",
    "| 10 | X | 22 | E |\n",
    "| 11 | B |  |  |"
   ]
  },
  {
   "cell_type": "markdown",
   "metadata": {},
   "source": [
    "## ✍️ Problema 3.16: Aritmetica modular. NIF\n",
    "\n",
    "Escriu una funció que, donat un número en el format adient d'un NIF, validi si la lletra es correspon realment al número del DNI. Has de fer servir alguna col·lecció de Python que sigui adequada. "
   ]
  },
  {
   "cell_type": "code",
   "execution_count": null,
   "metadata": {
    "id": "_ZIPSE7YUhzy"
   },
   "outputs": [],
   "source": [
    "def validar_NIF(cadenaNIF:str) -> bool:\n",
    "    \"\"\"\n",
    "    Aquesta funció valida si la lletra correspon al DNI\n",
    "    \n",
    "    Parameters\n",
    "    ----------\n",
    "    cadenaNIF: str\n",
    "        NIF\n",
    "        \n",
    "    Returns\n",
    "    -------\n",
    "    esCorrecte: bool\n",
    "        Retorna si el NIF és correcte o no.\n",
    "    \"\"\""
   ]
  },
  {
   "cell_type": "code",
   "execution_count": null,
   "metadata": {
    "id": "ez-eMr8lUhzy"
   },
   "outputs": [],
   "source": [
    "# 🔬  per provar...\n",
    "\n",
    "assert validar_NIF('56789123F') == True\n",
    "assert validar_NIF('56789123H') == False"
   ]
  },
  {
   "cell_type": "markdown",
   "metadata": {},
   "source": [
    "### 📊 Càlcul complexitat\n",
    "\n",
    "Repeteix el codi de la teva funció i detalla els passos computacionals i l'ordre de complexitat amb O gran."
   ]
  },
  {
   "cell_type": "markdown",
   "metadata": {},
   "source": [
    "## ✍️ Problema 3.16: Aritmetica modular. Fulla de càlcul\n",
    "\n",
    "Escriu una funció per convertir un nombre en el nom de la columna del full de càlcul corresponent.\n",
    "\n",
    "Ex. 1 => A, 11 => K"
   ]
  },
  {
   "cell_type": "code",
   "execution_count": null,
   "metadata": {
    "id": "GFAk9cV3Uhzy"
   },
   "outputs": [],
   "source": [
    "from typing import Any\n",
    "\n",
    "def conversio_fulla_calcul(num:int) -> str:\n",
    "    \"\"\"\n",
    "    Aquesta funció tradueix el valor num en el nom corresponent que tindriem en un full de càlcul.\n",
    "    \n",
    "    Parameters\n",
    "    ----------\n",
    "    num: int\n",
    "    \n",
    "    Returns\n",
    "    columna: str\n",
    "    \"\"\"                       \n"
   ]
  },
  {
   "cell_type": "code",
   "execution_count": null,
   "metadata": {},
   "outputs": [],
   "source": [
    "# 🔬  per provar...\n",
    "\n",
    "conversio_fulla_calcul(706)"
   ]
  },
  {
   "cell_type": "markdown",
   "metadata": {},
   "source": [
    "### 📊 Càlcul complexitat\n",
    "\n",
    "Repeteix el codi de la teva funció i detalla els passos computacionals i l'ordre de complexitat amb O gran."
   ]
  },
  {
   "cell_type": "code",
   "execution_count": null,
   "metadata": {
    "id": "DIe-ltSWUhzy"
   },
   "outputs": [],
   "source": [
    "# 🔬  per provar...\n",
    "\n",
    "assert conversio_fulla_calcul(1) == 'A'\n",
    "assert conversio_fulla_calcul(26) == 'Z'\n",
    "assert conversio_fulla_calcul(27) == 'AA'\n",
    "assert conversio_fulla_calcul(412) == 'OV'\n",
    "assert conversio_fulla_calcul(703) == 'AAA'"
   ]
  }
 ],
 "metadata": {
  "colab": {
   "collapsed_sections": [],
   "name": "3.6",
   "provenance": []
  },
  "kernelspec": {
   "display_name": "base",
   "language": "python",
   "name": "python3"
  },
  "language_info": {
   "codemirror_mode": {
    "name": "ipython",
    "version": 3
   },
   "file_extension": ".py",
   "mimetype": "text/x-python",
   "name": "python",
   "nbconvert_exporter": "python",
   "pygments_lexer": "ipython3",
   "version": "3.11.7"
  }
 },
 "nbformat": 4,
 "nbformat_minor": 4
}
