{
 "cells": [
  {
   "cell_type": "markdown",
   "metadata": {
    "id": "KB3KAlcFUTai"
   },
   "source": [
    "# 📖 Tema 3 - Algorismes numèrics"
   ]
  },
  {
   "cell_type": "markdown",
   "metadata": {},
   "source": [
    "### 🧠 L'algorisme d'Euclides per trobar el màxim comú divisor de dos nombres $a$ i $b$ és el següent:\n",
    "```python\n",
    "def gcd(a,b):\n",
    "    while a:\n",
    "        a, b = b%a, a\n",
    "    return b\n",
    "```\n",
    "\n",
    "## ✍️ Problema 3.2: Escriu una funció que simplifiqui una fracció a la seva expressió irreductible (fes servir gcd)"
   ]
  },
  {
   "cell_type": "code",
   "execution_count": null,
   "metadata": {
    "id": "eU2pBV6yUTam"
   },
   "outputs": [],
   "source": [
    "from typing import Any\n",
    "\n",
    "def reduir_fraccio(numerador:int, denominador:int) -> Any:\n",
    "    \"\"\"\n",
    "    Funció que retorna l'expressio irreductible d'una fracció\n",
    "    \n",
    "    Parameters\n",
    "    ----------\n",
    "    numerador: int\n",
    "    denominador: int\n",
    "    \n",
    "    Returns\n",
    "    -------\n",
    "    numReduit: int\n",
    "    denReduit: int\n",
    "    \"\"\""
   ]
  },
  {
   "cell_type": "code",
   "execution_count": 4,
   "metadata": {
    "id": "9J9Oq82_UTan"
   },
   "outputs": [],
   "source": [
    "# 🔬  per provar...\n",
    "\n",
    "assert reduir_fraccio(12, 8) == (3,2)"
   ]
  },
  {
   "cell_type": "markdown",
   "metadata": {},
   "source": [
    "### 📊 Càlcul complexitat\n",
    "\n",
    "Repeteix el codi de la teva funció i detalla els passos computacionals i l'ordre de complexitat amb O gran."
   ]
  }
 ],
 "metadata": {
  "colab": {
   "collapsed_sections": [],
   "name": "3.2-solucio.ipynb",
   "provenance": []
  },
  "kernelspec": {
   "display_name": "base",
   "language": "python",
   "name": "python3"
  },
  "language_info": {
   "codemirror_mode": {
    "name": "ipython",
    "version": 3
   },
   "file_extension": ".py",
   "mimetype": "text/x-python",
   "name": "python",
   "nbconvert_exporter": "python",
   "pygments_lexer": "ipython3",
   "version": "3.11.7"
  }
 },
 "nbformat": 4,
 "nbformat_minor": 0
}
