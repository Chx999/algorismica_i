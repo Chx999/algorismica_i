{
 "cells": [
  {
   "cell_type": "markdown",
   "metadata": {
    "id": "Tq8bG1MNUhzi"
   },
   "source": [
    "# 📖 Tema 3 - Algorismes numèrics"
   ]
  },
  {
   "cell_type": "markdown",
   "metadata": {
    "id": "tCtf0jLsUhzy"
   },
   "source": [
    "## 🧠 La validació del NIF amb aritmètica modular "
   ]
  },
  {
   "cell_type": "markdown",
   "metadata": {},
   "source": [
    "L'última lletra del NIF es calcula a partir dels nombres del DNI. Per fer-ho, s'ha de dividir el número entre 23 i quedar-se amb la resta, que és un nombre entre 0 i 22. Llavors s'aplica la taula següent per transformar aquest nombre en una lletra.\n",
    "\n",
    "| Resta | Lletra | Resta | Lletra |\n",
    "| --- | --- | --- | --- |\n",
    "| 0 | T | 12 | N |\n",
    "| 1 | R | 13 | J |\n",
    "| 2 | W | 14 | Z |\n",
    "| 3 | A | 15 | S |\n",
    "| 4 | G | 16 | Q |\n",
    "| 5 | M | 17 | V |\n",
    "| 6 | Y | 18 | H |\n",
    "| 7 | F | 19 | L |\n",
    "| 8 | P | 20 | C |\n",
    "| 9 | D | 21 | K |\n",
    "| 10 | X | 22 | E |\n",
    "| 11 | B |  |  |"
   ]
  },
  {
   "cell_type": "markdown",
   "metadata": {},
   "source": [
    "## ✍️ Problema 3.16: Aritmetica modular. NIF\n",
    "\n",
    "Escriu una funció que, donat un número en el format adient d'un NIF, validi si la lletra es correspon realment al número del DNI. Has de fer servir alguna col·lecció de Python que sigui adequada. "
   ]
  },
  {
   "cell_type": "code",
   "execution_count": null,
   "metadata": {
    "id": "_ZIPSE7YUhzy"
   },
   "outputs": [],
   "source": [
    "# def validar_NIF(cadenaNIF:str) -> bool:\n",
    "    \"\"\"\n",
    "    Aquesta funció valida si la lletra correspon al DNI\n",
    "    \n",
    "    Parameters\n",
    "    ----------\n",
    "    cadenaNIF: str\n",
    "        NIF\n",
    "        \n",
    "    Returns\n",
    "    -------\n",
    "    esCorrecte: bool\n",
    "        Retorna si el NIF és correcte o no.\n",
    "    \"\"\""
   ]
  },
  {
   "cell_type": "code",
   "execution_count": 19,
   "metadata": {},
   "outputs": [
    {
     "data": {
      "text/plain": [
       "False"
      ]
     },
     "execution_count": 19,
     "metadata": {},
     "output_type": "execute_result"
    }
   ],
   "source": [
    "def validar_NIF(cadenaNIF:str) -> bool:\n",
    "    tabla_NIE: dict[Any,Any] = {0:\"T\",1:\"R\",2:\"W\",3:\"A\",4:\"G\",5:\"M\",6:\"Y\",7:\"F\",8:\"P\",9:\"D\",10:\"X\",11:\"B\",12:\"N\",13:\"J\",14:\"Z\",15:\"S\",16:\"Q\",17:\"V\",18:\"H\",19:\"L\",20:\"C\",21:\"K\",22:\"E\"}\n",
    "    part_numeric: int = int(cadenaNIF[0:-1])\n",
    "    part_lletra: str = cadenaNIF[-1]\n",
    "    if part_lletra == tabla_NIE[part_numeric % 23]:\n",
    "        return True\n",
    "    else:\n",
    "        return False\n",
    "\n",
    "validar_NIF('56789123H')"
   ]
  },
  {
   "cell_type": "code",
   "execution_count": 27,
   "metadata": {
    "id": "ez-eMr8lUhzy"
   },
   "outputs": [],
   "source": [
    "# 🔬  per provar...\n",
    "\n",
    "assert validar_NIF('56789123F') == True\n",
    "assert validar_NIF('56789123H') == False"
   ]
  },
  {
   "cell_type": "markdown",
   "metadata": {},
   "source": [
    "### 📊 Càlcul complexitat\n",
    "\n",
    "Repeteix el codi de la teva funció i detalla els passos computacionals i l'ordre de complexitat amb O gran."
   ]
  },
  {
   "cell_type": "code",
   "execution_count": 26,
   "metadata": {},
   "outputs": [
    {
     "data": {
      "text/plain": [
       "False"
      ]
     },
     "execution_count": 26,
     "metadata": {},
     "output_type": "execute_result"
    }
   ],
   "source": [
    "def validar_NIF(cadenaNIF:str) -> bool:\n",
    "    tabla_NIE: dict[Any,Any] = {0:\"T\",1:\"R\",2:\"W\",3:\"A\",4:\"G\",5:\"M\",6:\"Y\",7:\"F\",8:\"P\",9:\"D\",10:\"X\",11:\"B\",12:\"N\",13:\"J\"\n",
    "                                ,14:\"Z\",15:\"S\",16:\"Q\",17:\"V\",18:\"H\",19:\"L\",20:\"C\",21:\"K\",22:\"E\"} # 1 paso, crear un diccionario\n",
    "    part_numeric: int = int(cadenaNIF[0:-1]) # 2 pasos, crear una subcadena y convertirlo en un numero(int)\n",
    "    part_lletra: str = cadenaNIF[-1] # 1 paso, aceder a un indice de una cadena\n",
    "    if part_lletra == tabla_NIE[part_numeric % 23]: # 3 pasos, calcular el resto de part_numeric,\n",
    "                                                    # usarlo como la llave para acceder un elemento del diccionario\n",
    "                                                    # finalmente comparar el elemento con la part_lletra\n",
    "        return True # 1 paso, si la condicion es true, devuelve true\n",
    "    else:\n",
    "        return False # 1 paso, si no condicion no cumple, devuelve false\n",
    "\n",
    "validar_NIF('56789123H') # llama la funcion"
   ]
  },
  {
   "cell_type": "code",
   "execution_count": null,
   "metadata": {},
   "outputs": [],
   "source": [
    "# El orden complejidad es O(1), porque los pasos computacionales no crecen dependiendo de los valores de \n",
    "# entrada(el numero de DNI es constante)."
   ]
  },
  {
   "cell_type": "markdown",
   "metadata": {},
   "source": [
    "## ✍️ Problema 3.16: Aritmetica modular. Fulla de càlcul\n",
    "\n",
    "Escriu una funció per convertir un nombre en el nom de la columna del full de càlcul corresponent.\n",
    "\n",
    "Ex. 1 => A, 11 => K"
   ]
  },
  {
   "cell_type": "code",
   "execution_count": 25,
   "metadata": {
    "id": "GFAk9cV3Uhzy"
   },
   "outputs": [
    {
     "data": {
      "text/plain": [
       "'AAA'"
      ]
     },
     "execution_count": 25,
     "metadata": {},
     "output_type": "execute_result"
    }
   ],
   "source": [
    "from typing import Any\n",
    "\n",
    "def conversio_fulla_calcul_prova(num:int) -> str:\n",
    "    \"\"\"\n",
    "    Aquesta funció tradueix el valor num en el nom corresponent que tindriem en un full de càlcul.\n",
    "    \n",
    "    Parameters\n",
    "    ----------\n",
    "    num: int\n",
    "    \n",
    "    Returns\n",
    "    columna: str\n",
    "    \"\"\"                       \n",
    "    resultat = \"\"\n",
    "    while num > 0:\n",
    "        num -= 1                      \n",
    "        resta = num % 26             \n",
    "        lletra = chr(ord('A') + resta) \n",
    "        resultat = lletra + resultat     \n",
    "        num //= 26                 \n",
    "    return resultat\n",
    "\n",
    "conversio_fulla_calcul(703)"
   ]
  },
  {
   "cell_type": "code",
   "execution_count": 16,
   "metadata": {},
   "outputs": [
    {
     "data": {
      "text/plain": [
       "'AAD'"
      ]
     },
     "execution_count": 16,
     "metadata": {},
     "output_type": "execute_result"
    }
   ],
   "source": [
    "# 🔬  per provar...\n",
    "\n",
    "conversio_fulla_calcul(706)"
   ]
  },
  {
   "cell_type": "markdown",
   "metadata": {},
   "source": [
    "### 📊 Càlcul complexitat\n",
    "\n",
    "Repeteix el codi de la teva funció i detalla els passos computacionals i l'ordre de complexitat amb O gran."
   ]
  },
  {
   "cell_type": "code",
   "execution_count": null,
   "metadata": {
    "id": "DIe-ltSWUhzy"
   },
   "outputs": [],
   "source": [
    "# 🔬  per provar...\n",
    "\n",
    "assert conversio_fulla_calcul(1) == 'A'\n",
    "assert conversio_fulla_calcul(26) == 'Z'\n",
    "assert conversio_fulla_calcul(27) == 'AA'\n",
    "assert conversio_fulla_calcul(412) == 'OV'\n",
    "assert conversio_fulla_calcul(703) == 'AAA'"
   ]
  },
  {
   "cell_type": "code",
   "execution_count": 24,
   "metadata": {},
   "outputs": [
    {
     "data": {
      "text/plain": [
       "'AAA'"
      ]
     },
     "execution_count": 24,
     "metadata": {},
     "output_type": "execute_result"
    }
   ],
   "source": [
    "def conversio_fulla_calcul(num):\n",
    "    resultat = \"\" # 1 paso, iniciacion de una variable\n",
    "    while num > 0: # 1 paso, comprobar si num es mas pequeno que 0\n",
    "        num -= 1  # 1 paso, una resta                    \n",
    "        resta = num % 26  # 1 paso, calcular el modulo            \n",
    "        lletra = chr(ord('A') + resta) # 3 pasos\n",
    "        resultat = lletra + resultat  # n operaciones, depende del numero de entrada   \n",
    "        num //= 26 # 1 paso, una division entera\n",
    "    return resultat # 1 paso, devolver una veriable\n",
    "\n",
    "conversio_fulla_calcul(703)"
   ]
  },
  {
   "cell_type": "code",
   "execution_count": null,
   "metadata": {},
   "outputs": [],
   "source": [
    "# funcion: O(log₍₂₆₎(n)**2)"
   ]
  }
 ],
 "metadata": {
  "colab": {
   "collapsed_sections": [],
   "name": "3.6",
   "provenance": []
  },
  "kernelspec": {
   "display_name": "Python 3 (ipykernel)",
   "language": "python",
   "name": "python3"
  },
  "language_info": {
   "codemirror_mode": {
    "name": "ipython",
    "version": 3
   },
   "file_extension": ".py",
   "mimetype": "text/x-python",
   "name": "python",
   "nbconvert_exporter": "python",
   "pygments_lexer": "ipython3",
   "version": "3.13.7"
  }
 },
 "nbformat": 4,
 "nbformat_minor": 4
}
