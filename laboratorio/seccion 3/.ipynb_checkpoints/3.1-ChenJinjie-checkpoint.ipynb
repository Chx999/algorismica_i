{
 "cells": [
  {
   "cell_type": "markdown",
   "metadata": {
    "id": "KB3KAlcFUTai"
   },
   "source": [
    "# 📖 Tema 3 - Algorismes numèrics"
   ]
  },
  {
   "cell_type": "markdown",
   "metadata": {
    "id": "lESOpOrkUTak"
   },
   "source": [
    "## ✍️ Problema 3.1: Divisió entera"
   ]
  },
  {
   "cell_type": "markdown",
   "metadata": {},
   "source": [
    "Escriu una funció que faci la divisió entera entre dos nombres enters, positius i més grans que $1$. No utilitzis els operadors *, /, % per resoldre el problema. "
   ]
  },
  {
   "cell_type": "code",
   "execution_count": 9,
   "metadata": {
    "id": "Qym49fpTUTal"
   },
   "outputs": [
    {
     "data": {
      "text/plain": [
       "5"
      ]
     },
     "execution_count": 9,
     "metadata": {},
     "output_type": "execute_result"
    }
   ],
   "source": [
    "def divisio_entera(dividend:int, divisor:int)->int:  \n",
    "    \"\"\"\n",
    "    Aquesta funció calcula la divisió entera de dos nombres naturals.\n",
    "    Atenció: No es poden utilitzar els operadors: *, /, %.\n",
    "    \n",
    "    Parameters\n",
    "    ----------\n",
    "    dividend: int\n",
    "    divisor: int\n",
    "    \n",
    "    Returns\n",
    "    -------\n",
    "    quocient: int\n",
    "    \"\"\"\n",
    "    quocient: int = 0\n",
    "    while dividend >= divisor:\n",
    "        dividend = dividend - divisor\n",
    "        quocient = quocient + 1\n",
    "    return quocient\n",
    "\n",
    "divisio_entera(,2)"
   ]
  },
  {
   "cell_type": "code",
   "execution_count": null,
   "metadata": {
    "id": "q68LWvO4UTam"
   },
   "outputs": [],
   "source": [
    "# 🔬  per provar...\n",
    "\n",
    "assert divisio_entera(10,2) == 5\n",
    "assert divisio_entera(9,2) == 4"
   ]
  },
  {
   "cell_type": "markdown",
   "metadata": {},
   "source": [
    "### 📊 Càlcul complexitat\n",
    "\n",
    "Repeteix el codi de la teva funció i detalla els passos computacionals i l'ordre de complexitat amb O gran. "
   ]
  },
  {
   "cell_type": "code",
   "execution_count": 8,
   "metadata": {},
   "outputs": [
    {
     "data": {
      "text/plain": [
       "4"
      ]
     },
     "execution_count": 8,
     "metadata": {},
     "output_type": "execute_result"
    }
   ],
   "source": [
    "def divisio_entera(dividend:int, divisor:int)->int:  \n",
    "    quocient: int = 0 # 1 paso, iniciacion de variable quocient\n",
    "    while dividend >= divisor: # 1 paso, comparar dividend con divisor\n",
    "        dividend = dividend - divisor # 1 paso, restar divisor a dividend\n",
    "        quocient = quocient + 1 # 1 paso, sumar 1 a quocient\n",
    "    return quocient  # 1 paso, devolver el variable quocient\n",
    "\n",
    "divisio_entera(9,2) # llamar la funcion"
   ]
  },
  {
   "cell_type": "code",
   "execution_count": null,
   "metadata": {},
   "outputs": [],
   "source": [
    "# El orden de complejidad Gran O es O(n), donde n es igual a dividend"
   ]
  }
 ],
 "metadata": {
  "colab": {
   "collapsed_sections": [],
   "name": "3.1",
   "provenance": []
  },
  "kernelspec": {
   "display_name": "Python 3 (ipykernel)",
   "language": "python",
   "name": "python3"
  },
  "language_info": {
   "codemirror_mode": {
    "name": "ipython",
    "version": 3
   },
   "file_extension": ".py",
   "mimetype": "text/x-python",
   "name": "python",
   "nbconvert_exporter": "python",
   "pygments_lexer": "ipython3",
   "version": "3.13.7"
  }
 },
 "nbformat": 4,
 "nbformat_minor": 4
}
