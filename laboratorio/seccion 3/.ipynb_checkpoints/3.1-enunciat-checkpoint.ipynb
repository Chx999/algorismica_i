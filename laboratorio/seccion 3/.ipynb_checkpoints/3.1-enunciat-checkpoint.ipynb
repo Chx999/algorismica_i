{
 "cells": [
  {
   "cell_type": "markdown",
   "metadata": {
    "id": "KB3KAlcFUTai"
   },
   "source": [
    "# 📖 Tema 3 - Algorismes numèrics"
   ]
  },
  {
   "cell_type": "markdown",
   "metadata": {
    "id": "lESOpOrkUTak"
   },
   "source": [
    "## ✍️ Problema 3.1: Divisió entera"
   ]
  },
  {
   "cell_type": "markdown",
   "metadata": {},
   "source": [
    "Escriu una funció que faci la divisió entera entre dos nombres enters, positius i més grans que $1$. No utilitzis els operadors *, /, % per resoldre el problema. "
   ]
  },
  {
   "cell_type": "code",
   "execution_count": null,
   "metadata": {
    "id": "Qym49fpTUTal"
   },
   "outputs": [],
   "source": [
    "def divisio_entera(dividend:int, divisor:int)->int:  \n",
    "    \"\"\"\n",
    "    Aquesta funció calcula la divisió entera de dos nombres naturals.\n",
    "    Atenció: No es poden utilitzar els operadors: *, /, %.\n",
    "    \n",
    "    Parameters\n",
    "    ----------\n",
    "    dividend: int\n",
    "    divisor: int\n",
    "    \n",
    "    Returns\n",
    "    -------\n",
    "    quocient: int\n",
    "    \"\"\""
   ]
  },
  {
   "cell_type": "code",
   "execution_count": null,
   "metadata": {
    "id": "q68LWvO4UTam"
   },
   "outputs": [],
   "source": [
    "# 🔬  per provar...\n",
    "\n",
    "assert divisio_entera(10,2) == 5\n",
    "assert divisio_entera(9,2) == 4"
   ]
  },
  {
   "cell_type": "markdown",
   "metadata": {},
   "source": [
    "### 📊 Càlcul complexitat\n",
    "\n",
    "Repeteix el codi de la teva funció i detalla els passos computacionals i l'ordre de complexitat amb O gran. "
   ]
  }
 ],
 "metadata": {
  "colab": {
   "collapsed_sections": [],
   "name": "3.1",
   "provenance": []
  },
  "kernelspec": {
   "display_name": "Python 3 (ipykernel)",
   "language": "python",
   "name": "python3"
  },
  "language_info": {
   "codemirror_mode": {
    "name": "ipython",
    "version": 3
   },
   "file_extension": ".py",
   "mimetype": "text/x-python",
   "name": "python",
   "nbconvert_exporter": "python",
   "pygments_lexer": "ipython3",
   "version": "3.9.7"
  }
 },
 "nbformat": 4,
 "nbformat_minor": 4
}
