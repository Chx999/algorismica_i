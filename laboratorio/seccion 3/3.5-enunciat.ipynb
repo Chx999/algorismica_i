{
 "cells": [
  {
   "cell_type": "markdown",
   "metadata": {
    "id": "Tq8bG1MNUhzi"
   },
   "source": [
    "# 📖 Tema 3 - Algorismes numèrics"
   ]
  },
  {
   "cell_type": "markdown",
   "metadata": {},
   "source": [
    "## ⚡Correcció d'errates al llibre de problemes\n",
    "\n",
    "A la introducció del llibre es comenta l'exemple de 20 & 1 i de 21 & 1. En aquest segon cas cal corregir les xifres binàries del llibre. Les correctes són:\n",
    "- En el segon cas, tenim que 00010101 & 00000001 = 1;"
   ]
  },
  {
   "cell_type": "markdown",
   "metadata": {
    "id": "RKMtB8eJUhzx"
   },
   "source": [
    "## ✍️ Problema 3.5: Operacions amb nombres binaris"
   ]
  },
  {
   "cell_type": "markdown",
   "metadata": {},
   "source": [
    "Determina si un nombre positiu és potència de 2 fent ús de les operacions binàries d'acord amb les indicacions següents:\n",
    "+ Si ens fixem en la representació binària d'un nombre, és fàcil veure que les potències de 2 només tenen un bit a 1\n",
    "+ Pel que fa als bits, donada una potència de 2 (p. ex. 010000), el nombre anterior té una forma complementària en els bits menys significatius (001111)."
   ]
  },
  {
   "cell_type": "code",
   "execution_count": null,
   "metadata": {
    "id": "FYXzr352Uhzx"
   },
   "outputs": [],
   "source": [
    "def potencia2(num:int)->bool:\n",
    "    \"\"\"\n",
    "    Aquesta funció comprova si num és una potencia de 2.\n",
    "    \n",
    "    Parameters\n",
    "    ----------\n",
    "    num: int\n",
    "        Valor a determinar si es potencia de 2\n",
    "        \n",
    "    Returns\n",
    "    -------\n",
    "    esPotencia: bool\n",
    "        És num potencia de 2?\n",
    "    \"\"\""
   ]
  },
  {
   "cell_type": "markdown",
   "metadata": {},
   "source": [
    "### 📊 Càlcul complexitat\n",
    "\n",
    "Repeteix el codi de la teva funció i detalla els passos computacionals i l'ordre de complexitat amb O gran.\n"
   ]
  },
  {
   "cell_type": "markdown",
   "metadata": {},
   "source": [
    "## 🏁 Repte\n",
    "\n",
    "Resoldre l'exercici anterior amb list comprehensions i sense cap variable booleana"
   ]
  },
  {
   "cell_type": "code",
   "execution_count": null,
   "metadata": {
    "id": "a05zLR_yUhzx"
   },
   "outputs": [],
   "source": [
    "def potencia_list_comprehensions(num:int)->bool:\n",
    "    \"\"\"\n",
    "    Aquesta comprova si num és una potencia de 2.\n",
    "    \n",
    "    Parameters\n",
    "    ----------\n",
    "    num: int\n",
    "        Valor a determinar si es potencia de 2\n",
    "        \n",
    "    Returns\n",
    "    -------\n",
    "    esPotencia: bool\n",
    "        És num potencia de 2?\n",
    "    \"\"\""
   ]
  },
  {
   "cell_type": "code",
   "execution_count": null,
   "metadata": {
    "id": "Owrcv_DjUhzx"
   },
   "outputs": [],
   "source": [
    "# 🔬 per provar\n",
    "assert potencia2(1024) == True\n",
    "assert potencia2(2**2345) == True\n",
    "assert potencia2(2**2345-1) == False"
   ]
  },
  {
   "cell_type": "markdown",
   "metadata": {},
   "source": [
    "### 📊 Càlcul complexitat\n",
    "\n",
    "Calcula l'ordre de complexitat amb list comprehensions."
   ]
  }
 ],
 "metadata": {
  "colab": {
   "collapsed_sections": [],
   "name": "3.5",
   "provenance": []
  },
  "kernelspec": {
   "display_name": "Python 3 (ipykernel)",
   "language": "python",
   "name": "python3"
  },
  "language_info": {
   "codemirror_mode": {
    "name": "ipython",
    "version": 3
   },
   "file_extension": ".py",
   "mimetype": "text/x-python",
   "name": "python",
   "nbconvert_exporter": "python",
   "pygments_lexer": "ipython3",
   "version": "3.9.4"
  }
 },
 "nbformat": 4,
 "nbformat_minor": 4
}
