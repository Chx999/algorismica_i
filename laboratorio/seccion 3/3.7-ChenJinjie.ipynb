{
 "cells": [
  {
   "cell_type": "markdown",
   "metadata": {
    "id": "Tq8bG1MNUhzi"
   },
   "source": [
    "# 📖 Tema 3 - Algorismes numèrics"
   ]
  },
  {
   "cell_type": "markdown",
   "metadata": {
    "id": "BpaQzlnZUhzz"
   },
   "source": [
    "## ✍️ Problema 3.7: Descomposició en funcions"
   ]
  },
  {
   "cell_type": "markdown",
   "metadata": {},
   "source": [
    "Escriu una funció que permeti fer operacions de suma, resta i multiplicació amb nombres naturals \n",
    "a partir d'una entrada que sigui una cadena. L'usuari anirà entrant les operacions, i quan vulgui \n",
    "acabar pitjarà retorn i la cadena d'entrada quedarà buida.\n",
    "\n",
    "Exemple de funcionament:\n",
    "\n",
    "&emsp;Entra operació: 4+5\\\n",
    "&emsp;>9\\\n",
    "&emsp;Entra operació: 7-2\\\n",
    "&emsp;>5\\\n",
    "&emsp;Entra operació: 1*4\\\n",
    "&emsp;>4\\\n",
    "&emsp;Entra operació:"
   ]
  },
  {
   "cell_type": "code",
   "execution_count": 3,
   "metadata": {
    "id": "Jex4NhPuUhzz"
   },
   "outputs": [
    {
     "name": "stdin",
     "output_type": "stream",
     "text": [
      "Operacion:  \n"
     ]
    }
   ],
   "source": [
    "def calculadora():\n",
    "    \"\"\"\n",
    "    Aquesta funció representa una calculadora.\n",
    "    Llegueix l'entrada per linia de comandes.\n",
    "    \n",
    "    Parameters\n",
    "    ----------\n",
    "    None\n",
    "    \n",
    "    Returns\n",
    "    -------\n",
    "    None\n",
    "    \"\"\"\n",
    "    entrada: int = 0\n",
    "    while entrada != \"\":\n",
    "        entrada: str = input(\"Operacion: \")\n",
    "        if \"+\" in entrada:\n",
    "            operacion: list = entrada.split(\"+\")\n",
    "            print(int(operacion[0]) + int(operacion[-1]))\n",
    "        elif \"-\" in entrada:\n",
    "            operacion: list = entrada.split(\"-\")\n",
    "            print(int(operacion[0]) - int(operacion[-1]))\n",
    "        if \"*\" in entrada:\n",
    "            operacion: list = entrada.split(\"*\")\n",
    "            print(int(operacion[0]) * int(operacion[-1]))\n",
    "\n",
    "\n",
    "calculadora()\n",
    "\n",
    "    \n",
    "    "
   ]
  },
  {
   "cell_type": "markdown",
   "metadata": {},
   "source": [
    "### 📊 Càlcul complexitat\n",
    "\n",
    "Repeteix el codi de la teva funció i detalla els passos computacionals i l'ordre de complexitat amb O gran."
   ]
  },
  {
   "cell_type": "code",
   "execution_count": 4,
   "metadata": {},
   "outputs": [
    {
     "name": "stdin",
     "output_type": "stream",
     "text": [
      "Operacion:  7+5\n"
     ]
    },
    {
     "name": "stdout",
     "output_type": "stream",
     "text": [
      "12\n"
     ]
    },
    {
     "name": "stdin",
     "output_type": "stream",
     "text": [
      "Operacion:  6-3\n"
     ]
    },
    {
     "name": "stdout",
     "output_type": "stream",
     "text": [
      "3\n"
     ]
    },
    {
     "name": "stdin",
     "output_type": "stream",
     "text": [
      "Operacion:  \n"
     ]
    }
   ],
   "source": [
    "def calculadora():\n",
    "    entrada: int = 0 # 1 paso, iniciacion del variable entrada\n",
    "    while entrada != \"\": # 1 paso, comprueba si entrada es vacio\n",
    "        entrada: str = input(\"Operacion: \") # 1 paso, recibe los valores de entrada\n",
    "        if \"+\" in entrada: # n operacions, depende de la longitud de la cadena\n",
    "            operacion: list = entrada.split(\"+\") # n operacion, recorre y separa toda la cadena\n",
    "            print(int(operacion[0]) + int(operacion[-1])) # n operaciones: 2 conversiones donde se recorre toda la cadena, suma de elementos\n",
    "        elif \"-\" in entrada: # n operacions, depende de la longitud de la cadena\n",
    "            operacion: list = entrada.split(\"-\") # n operacion, recorre y separa toda la cadena\n",
    "            print(int(operacion[0]) - int(operacion[-1]))# n operaciones: 2 conversiones donde se recorre toda la cadena, resta de elementos\n",
    "        if \"*\" in entrada: # n operacions, depende de la longitud de la cadena\n",
    "            operacion: list = entrada.split(\"*\") # n operacion, recorre y separa toda la cadena\n",
    "            print(int(operacion[0]) * int(operacion[-1])) # n operaciones: 2 conversiones donde se recorre toda la cadena, multiplicacion de elementos\n",
    "\n",
    "\n",
    "calculadora()"
   ]
  },
  {
   "cell_type": "code",
   "execution_count": null,
   "metadata": {},
   "outputs": [],
   "source": [
    "# funcion: O(m*n), m es el numero de operaciones que el usuario introduce y n es la longitud de cada cadena de operacion"
   ]
  },
  {
   "cell_type": "markdown",
   "metadata": {},
   "source": [
    "## ✍️ Problema 3.7: Nombre més petit divisible\n",
    "\n",
    "El nombre 2520 és el nombre més petit que es pot dividir de manera exacta (sense decimals) per cada un dels nombres enters entre 1 i 10. Escriu un algorisme que calculi el nombre més petit divisible per tots els nombres menors a un nombre $n$ donat."
   ]
  },
  {
   "cell_type": "code",
   "execution_count": 5,
   "metadata": {
    "id": "68PRYbSrUhzz"
   },
   "outputs": [
    {
     "name": "stdout",
     "output_type": "stream",
     "text": [
      "2520\n"
     ]
    }
   ],
   "source": [
    "def mes_petit_divisible_per(n:int) -> int:\n",
    "    \"\"\"\n",
    "    Aquesta funció calcula el nombre més petit divisible per tots els nombres menors a numero n\n",
    "    \n",
    "    Parameters\n",
    "    ----------\n",
    "    n: int\n",
    "    \n",
    "    Returns\n",
    "    -------\n",
    "    :int\n",
    "    \"\"\"\n",
    "    mcm = 1\n",
    "    for i in range(1, n + 1):\n",
    "        mcm = mcm * i // mcd(mcm, i)\n",
    "    return mcm\n",
    "\n",
    "def mcd(a, b):\n",
    "    while b != 0:\n",
    "        a, b = b, a % b\n",
    "    return a\n",
    "\n",
    "print(mes_petit_divisible_per(9))\n",
    "\n",
    "        "
   ]
  },
  {
   "cell_type": "code",
   "execution_count": null,
   "metadata": {
    "id": "cJ4_2MeIUhzz"
   },
   "outputs": [],
   "source": [
    "###  🔬 Per provar...\n",
    "\n",
    "assert mes_petit_divisible_per(2) == 2\n",
    "assert mes_petit_divisible_per(4) == 12\n",
    "assert mes_petit_divisible_per(9) == 2520\n",
    "assert mes_petit_divisible_per(15) == 360360"
   ]
  },
  {
   "cell_type": "markdown",
   "metadata": {},
   "source": [
    "### 📊 Càlcul complexitat\n",
    "\n",
    "Repeteix el codi de la teva funció i detalla els passos computacionals i l'ordre de complexitat amb O gran."
   ]
  },
  {
   "cell_type": "code",
   "execution_count": null,
   "metadata": {},
   "outputs": [],
   "source": [
    "def mes_petit_divisible_per(num:int) -> int:\n",
    "    mcm: int = 1 # 1 paso, iniciacion de una variable\n",
    "    for i in range(1, n + 1): # n operaciones. \n",
    "        mcm = mcm * i // mcd(mcm, i) # n operaciones\n",
    "    return mcm # 1 paso\n",
    "\n",
    "def mcd(a: int, b: int) -> int:\n",
    "    while b != 0: # 1 paso\n",
    "        a, b = b, a % b # 2 pasos. calcular el modulo y asignacion \n",
    "    return a # 1 paso\n",
    "\n",
    "print(mes_petit_divisible_per(9))\n",
    "\n",
    "        "
   ]
  },
  {
   "cell_type": "code",
   "execution_count": null,
   "metadata": {},
   "outputs": [],
   "source": [
    "# funcion: O(n*log(n)), donde n es igual a num"
   ]
  }
 ],
 "metadata": {
  "colab": {
   "collapsed_sections": [],
   "name": "3.7",
   "provenance": []
  },
  "kernelspec": {
   "display_name": "Python 3 (ipykernel)",
   "language": "python",
   "name": "python3"
  },
  "language_info": {
   "codemirror_mode": {
    "name": "ipython",
    "version": 3
   },
   "file_extension": ".py",
   "mimetype": "text/x-python",
   "name": "python",
   "nbconvert_exporter": "python",
   "pygments_lexer": "ipython3",
   "version": "3.13.7"
  }
 },
 "nbformat": 4,
 "nbformat_minor": 4
}
