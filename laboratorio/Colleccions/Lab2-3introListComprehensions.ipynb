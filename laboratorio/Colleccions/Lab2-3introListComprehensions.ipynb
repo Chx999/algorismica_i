{
 "cells": [
  {
   "cell_type": "markdown",
   "metadata": {
    "id": "0gquUm80AhuL"
   },
   "source": [
    "<div id=\"capcalera\">\n",
    "<p >Aquest notebook complementa els continguts teòrics de l'assignatura d'<strong>Algorísmica</strong> del Grau d'Enginyeria Informàtica a la <a href=\"https://mat.ub.edu\">Facultat de Matemàtiques i Informàtica</a> de la <a href=\"https://www.ub.edu\">Universitat de Barcelona</a></p>\n",
    "\n",
    "<p>Els problemes s'ofereixen sota llicència <a href=\"https://creativecommons.org/licenses/by-nc-nd/3.0/us/legalcode\">CC-BY-NC-ND license</a>, i el codi sota <a href=\"https://opensource.org/licenses/MIT\">Llicència MIT</a>.</p>\n",
    "\n",
    "</div>"
   ]
  },
  {
   "cell_type": "markdown",
   "metadata": {
    "id": "H7BKq9ICAhuP"
   },
   "source": [
    "# Python - Introducció a les List comprehensions"
   ]
  },
  {
   "cell_type": "markdown",
   "metadata": {
    "id": "Sjmi8XDJAhuP"
   },
   "source": [
    "## List comprehensions\n",
    "\n",
    "Per crear llistes de manera molt eficient, podem usar les list comprehensions."
   ]
  },
  {
   "cell_type": "code",
   "execution_count": 1,
   "metadata": {
    "id": "KMvE3dvAAhuQ",
    "outputId": "06907134-94ca-4cd6-9ebc-792728d3ee74"
   },
   "outputs": [
    {
     "name": "stdout",
     "output_type": "stream",
     "text": [
      "[0, 1, 4, 9, 16, 25, 36, 49, 64, 81]\n",
      "[0, 1, 4, 9, 16, 25, 36, 49, 64, 81]\n"
     ]
    }
   ],
   "source": [
    "# Exemple de creació de la llista dels quadrats de 1 a 10 a la manera clàssica\n",
    "quadrats: list[int] = []\n",
    "for x in range(10):\n",
    "    quadrats.append(x ** 2)\n",
    "print(quadrats)\n",
    "\n",
    "# Exemple de creació de la llista de quadrats de 1 a 10 amb list comprehensions\n",
    "quadrats2: list[int] = [x ** 2 for x in range(10)] \n",
    "                                    # primer indiquem l'expressió que anirà omplint la llista, \n",
    "                                    # després el rang de valors,\n",
    "                                    # i podem posteriorment indicar altres rangs o condicions\n",
    "print(quadrats2)\n",
    "\n",
    "#Tot i que la complexitat és la mateixa, la segona instrucció s'executa més ràpidament i amb menys recursos que la primera"
   ]
  },
  {
   "cell_type": "code",
   "execution_count": 6,
   "metadata": {
    "id": "nWhsM3x1AhuS"
   },
   "outputs": [
    {
     "name": "stdout",
     "output_type": "stream",
     "text": [
      "[(1, 3), (1, 4), (2, 3), (2, 1), (2, 4), (3, 1), (3, 4)]\n",
      "[(1, 3), (1, 4), (2, 3), (2, 1), (2, 4), (3, 1), (3, 4)]\n"
     ]
    }
   ],
   "source": [
    "# Exemple 1: Traducció a list comprehension de la següent estructura\n",
    "\n",
    "combinacions: list[tuple[int]] = []\n",
    "for x in [1, 2, 3]:\n",
    "    for y in [3, 1, 4]:\n",
    "        if x != y:\n",
    "            combinacions.append((x, y))\n",
    "print(combinacions)\n",
    "\n",
    "\n",
    "# combinacions2 = [ expressió que ha d'omplir la llista for més extern, for segon més extern, if]\n",
    "\n",
    "combinacions2: list[tuple[int]] = [(x, y) for x in [1, 2, 3] for y in [3, 1, 4] if x != y]\n",
    "print(combinacions2)"
   ]
  },
  {
   "cell_type": "markdown",
   "metadata": {
    "id": "L_qIoRDwAhuS"
   },
   "source": [
    "Les comprehensions de les llistes són una eina per transformar una llista (qualsevol iterable en realitat) en una altra llista. Durant aquesta transformació, els elements es poden incloure de manera condicional a la nova llista i cada element es pot transformar segons sigui necessari.\n",
    "\n",
    "Cada comprehension es pot reescriure com un bucle sobre la lista, però no tot bucle es pot reescriure com a list comprehension.\n",
    "\n",
    "Començant pel cas més senzill, una list comprehension com aquesta:\n",
    "\n",
    "```python\n",
    "a = [func(element) for element in sequence]\n",
    "```\n",
    "\n",
    "és equivalent a:\n",
    "\n",
    "```python\n",
    "a = []\n",
    "for element in sequence:\n",
    "    a.append(func(element))\n",
    "```\n",
    "\n",
    "De la mateixa manera que podeu afegir `for` addicionals als bucles i condicions `if` dins dels bucles, també podeu afegir-les a la comprensió.\n",
    "\n",
    "La clau a entendre és que l'ordre d'esquerra a dreta en la comprehennsion assigna el mateix ordre als bucles explícits:\n",
    "\n",
    "```python\n",
    "a = [func(element) for subseq in seq2d for element in subseq if pred(element)]\n",
    "\n",
    "a = []\n",
    "for subseq in seq2d:\n",
    "    for element in subseq:\n",
    "        if pred(element):\n",
    "            a.append(func(element))\n",
    "```\n",
    "\n",
    "També podem usar les list comprehensions per a fer combinacions:"
   ]
  },
  {
   "cell_type": "code",
   "execution_count": 8,
   "metadata": {
    "id": "LZTq24VrAhuT",
    "outputId": "f349f9b3-850e-4add-f1e1-983025180f73"
   },
   "outputs": [
    {
     "data": {
      "text/plain": [
       "['ADG',\n",
       " 'ADH',\n",
       " 'ADI',\n",
       " 'AEG',\n",
       " 'AEH',\n",
       " 'AEI',\n",
       " 'AFG',\n",
       " 'AFH',\n",
       " 'AFI',\n",
       " 'BDG',\n",
       " 'BDH',\n",
       " 'BDI',\n",
       " 'BEG',\n",
       " 'BEH',\n",
       " 'BEI',\n",
       " 'BFG',\n",
       " 'BFH',\n",
       " 'BFI',\n",
       " 'CDG',\n",
       " 'CDH',\n",
       " 'CDI',\n",
       " 'CEG',\n",
       " 'CEH',\n",
       " 'CEI',\n",
       " 'CFG',\n",
       " 'CFH',\n",
       " 'CFI']"
      ]
     },
     "execution_count": 8,
     "metadata": {},
     "output_type": "execute_result"
    }
   ],
   "source": [
    "[a+b+c for a in ['A', 'B', 'C'] for b in ['D', 'E', 'F'] for c in ['G', 'H', 'I']]"
   ]
  },
  {
   "cell_type": "markdown",
   "metadata": {
    "id": "XuONbNsRAhuU"
   },
   "source": [
    "### <span class=\"exercici\">Exercici 1: Escriu en forma de list comprehension les següents llistes</span>\n",
    "\n",
    "1. Fer una llista amb tots els números fins a 10\n",
    "2. Fer una llista amb tots ls números fins a 10 múltiples de 2\n",
    "3. Fer una llista amb totes les parelles (i, j) amb i de 0 a 2 i amb j de 0 a 3\n",
    "4. Fer una llista amb tots els números divisibles per 3 menors a 20\n",
    "5. Fer una llista amb tots els números anteriors als divisibles per 3 menors a 20\n",
    "6. Fer una llista amb totes les parelles de numeros positius menors a 20 que sumin 18\n",
    "7. Fer una llista amb els múltiples de 3 i 5 menors que 1000. Després calcula la suma de tots els elements de la llista\n",
    "8. Fer una llista amb els valors de 100 a 1000, múltiples de 10, en ordre invers. És a dir 1000, 990, 980..."
   ]
  },
  {
   "cell_type": "code",
   "execution_count": 4,
   "metadata": {},
   "outputs": [
    {
     "name": "stdout",
     "output_type": "stream",
     "text": [
      "[0, 1, 2, 3, 4, 5, 6, 7, 8, 9, 10]\n"
     ]
    }
   ],
   "source": [
    "l_1: list[int] = []\n",
    "for i in range(10):\n",
    "    l_1.append(i)\n",
    "\n",
    "l_1 = [i for i in range(11)]\n",
    "print(l_1)"
   ]
  },
  {
   "cell_type": "code",
   "execution_count": 5,
   "metadata": {},
   "outputs": [
    {
     "name": "stdout",
     "output_type": "stream",
     "text": [
      "[0, 2, 4, 6, 8, 10, 12, 14, 16, 18, 20]\n"
     ]
    }
   ],
   "source": [
    "l_2: list[int] = [i * 2 for i in range(11)]\n",
    "print(l_2)"
   ]
  },
  {
   "cell_type": "code",
   "execution_count": 10,
   "metadata": {},
   "outputs": [
    {
     "name": "stdout",
     "output_type": "stream",
     "text": [
      "[(0, 0), (0, 1), (0, 2), (0, 3), (1, 0), (1, 1), (1, 2), (1, 3), (2, 0), (2, 1), (2, 2), (2, 3)]\n"
     ]
    }
   ],
   "source": [
    "\n",
    "# l_3 = []\n",
    "# for i in range(3):\n",
    "#    for j in range(4):\n",
    "#      l_3.append((i,j))  \n",
    "# print(l_3)\n",
    "\n",
    "l_3: list[tuple[int]] = [(i,j) for i in range(3) for j in range(4)]\n",
    "print(l_3)"
   ]
  },
  {
   "cell_type": "code",
   "execution_count": 19,
   "metadata": {},
   "outputs": [
    {
     "name": "stdout",
     "output_type": "stream",
     "text": [
      "[3, 6, 9, 12, 15, 18]\n"
     ]
    }
   ],
   "source": [
    "'''\n",
    "l_4: list[int] = []\n",
    "for i in range(1,21):\n",
    "    if i%3 == 0:\n",
    "        l_4.append(i)\n",
    "\n",
    "print(l_4)\n",
    "'''\n",
    "\n",
    "l_4: list[int] = [i for i in range(1,21) if i%3 == 0 ]\n",
    "print(l_4)"
   ]
  },
  {
   "cell_type": "code",
   "execution_count": null,
   "metadata": {},
   "outputs": [],
   "source": [
    "l_5: list[int] = [i for i in range(1,21) if  ]"
   ]
  },
  {
   "cell_type": "code",
   "execution_count": 21,
   "metadata": {},
   "outputs": [
    {
     "name": "stdout",
     "output_type": "stream",
     "text": [
      "[(1, 17), (2, 16), (3, 15), (4, 14), (5, 13), (6, 12), (7, 11), (8, 10), (9, 9), (10, 8), (11, 7), (12, 6), (13, 5), (14, 4), (15, 3), (16, 2), (17, 1)]\n"
     ]
    }
   ],
   "source": [
    "l_6 = [(i,j) for i in range(1,21) for j in range(1,21) if i + j == 18]\n",
    "print(l_6)"
   ]
  },
  {
   "cell_type": "code",
   "execution_count": 29,
   "metadata": {},
   "outputs": [
    {
     "name": "stdout",
     "output_type": "stream",
     "text": [
      "[15, 30, 45, 60, 75, 90, 105, 120, 135, 150, 165, 180, 195, 210, 225, 240, 255, 270, 285, 300, 315, 330, 345, 360, 375, 390, 405, 420, 435, 450, 465, 480, 495, 510, 525, 540, 555, 570, 585, 600, 615, 630, 645, 660, 675, 690, 705, 720, 735, 750, 765, 780, 795, 810, 825, 840, 855, 870, 885, 900, 915, 930, 945, 960, 975, 990]\n",
      "990\n"
     ]
    },
    {
     "data": {
      "text/plain": [
       "'\\nsuma = [suma for i in range(l_7) suma = suma + i]\\nprint(suma)\\n'"
      ]
     },
     "execution_count": 29,
     "metadata": {},
     "output_type": "execute_result"
    }
   ],
   "source": [
    "l_7 = [i for i in range(1,1001) if i%3 == 0 and i%5 == 0 ]\n",
    "print(l_7)\n",
    "\n",
    "for i in l_7:\n",
    "\n",
    "'''\n",
    "suma = [suma for i in range(l_7) suma = suma + i]\n",
    "print(suma)\n",
    "'''"
   ]
  },
  {
   "cell_type": "code",
   "execution_count": null,
   "metadata": {},
   "outputs": [],
   "source": []
  }
 ],
 "metadata": {
  "colab": {
   "name": "ListComprehensions.ipynb",
   "provenance": []
  },
  "kernelspec": {
   "display_name": "Python 3 (ipykernel)",
   "language": "python",
   "name": "python3"
  },
  "language_info": {
   "codemirror_mode": {
    "name": "ipython",
    "version": 3
   },
   "file_extension": ".py",
   "mimetype": "text/x-python",
   "name": "python",
   "nbconvert_exporter": "python",
   "pygments_lexer": "ipython3",
   "version": "3.12.3"
  }
 },
 "nbformat": 4,
 "nbformat_minor": 4
}
