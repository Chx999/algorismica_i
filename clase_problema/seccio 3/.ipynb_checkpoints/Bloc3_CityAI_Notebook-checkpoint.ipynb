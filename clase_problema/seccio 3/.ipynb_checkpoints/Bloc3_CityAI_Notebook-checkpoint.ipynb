{
 "cells": [
  {
   "cell_type": "markdown",
   "id": "c1fe310a",
   "metadata": {},
   "source": [
    "# 📘 Tema 3 — Algorismes numèrics i complexitat"
   ]
  },
  {
   "cell_type": "code",
   "execution_count": null,
   "id": "e579ed18",
   "metadata": {},
   "outputs": [
    {
     "data": {
      "text/html": [
       "<style>.container { width:100% !important; }</style>"
      ],
      "text/plain": [
       "<IPython.core.display.HTML object>"
      ]
     },
     "metadata": {},
     "output_type": "display_data"
    }
   ],
   "source": [
    "from IPython.core.display import display, HTML\n",
    "display(HTML('<style>.container { width:100% !important; }</style>'))"
   ]
  },
  {
   "cell_type": "markdown",
   "id": "e7b718a7-f7d7-425e-9786-065d79fc3bcd",
   "metadata": {},
   "source": [
    "## 🧠 Escenari: CityAI — Renda per barris\n",
    "Aquest notebook treballa temes d'aritmètica bàsica i modular mitjançant reptes contextualitzats en una ciutat intel·ligent.\n",
    "\n",
    "L'ajuntament de Barcelona monitoritza diverses variables de la població i de la distribució per barris. Una d'elles és la renda disponible per càpita per barris i districtes, que es fa en base a una estimació a partir de dades de l'Idescat i de l'INE. \n",
    "\n",
    "A algorísmica hem descarregat les dades de 2020, 2021 i 2022 i d'aquesta darrera n'hem fet una versió més reduida encara, 'sense_comes_renda_reduit.csv', sense capçaleres, per a que hi puguis jugar inicialment. \n",
    "\n",
    "En aquest fixer es dona el codi i nom de districte i barri, i per cadascun d'ells l'estimació en euros de renda per càpita anual.\n",
    "\n",
    "Tots els fitxers de dades que es treballen en aquest notebook han estat tractats d'antuvi i les dades se separen per ;. Així hem evitat problemes amb noms llargs de barris que tenien cometes entremig."
   ]
  },
  {
   "cell_type": "markdown",
   "id": "2f471b57",
   "metadata": {},
   "source": [
    "### 🧠 Objectius:\n",
    "\n",
    "- Practicar les operacions d'aritmètica bàsica i modular i calcular-ne la complexitat.\n",
    "- Treballar amb col.leccions\n",
    "- Experimentar amb un ús real de l'aritmètica modular, la validació dels codis bancaris.\n",
    "- Aplicar el pensament algorítmic a problemes reals i raonar a partir de l'ordre de complexitat dels problemes."
   ]
  },
  {
   "cell_type": "markdown",
   "id": "b65bd234-730d-44b0-bebb-be5132252f12",
   "metadata": {},
   "source": [
    "## ✍️ Problema 1: Relacionar barris i districtes\n",
    "\n",
    "A partir de les dades de renda_reduit, fes un diccionari en el que donat un barri de Barcelona et retorni el districte.\n",
    "Pots començar amb una aproximació manual, però l'objectiu és que omplis el diccionari de manera automàtica."
   ]
  },
  {
   "cell_type": "code",
   "execution_count": null,
   "id": "7e51b12f-27f6-4fdb-ae9c-7dc3b74fd65c",
   "metadata": {},
   "outputs": [],
   "source": [
    "def districte_barri() -> dict[str,str]:\n",
    "    '''\n",
    "    Retorna un diccionari amb els districtes i barris de Barcelona.\n",
    "    \n",
    "    La clau del diccionari és el nom del barri i el valor és el nom del districte.\n",
    "\n",
    "    :param: None\n",
    "    :return: diccionari amb els barris de Barcelona i el seu districte corresponent.   \n",
    "    '''\n"
   ]
  },
  {
   "cell_type": "markdown",
   "id": "a7727326",
   "metadata": {},
   "source": [
    "Calcula el cost i l'ordre de complexitat de l'algorisme, a què correspon la $n$ en aquest cas?"
   ]
  },
  {
   "cell_type": "code",
   "execution_count": null,
   "id": "31d63b31",
   "metadata": {},
   "outputs": [],
   "source": []
  },
  {
   "cell_type": "markdown",
   "id": "efde4be2-f731-49bb-a40a-8d913f991658",
   "metadata": {},
   "source": [
    "## ✍️ Problema 2: Calcular la mitjana de la renda per persona per barri\n",
    "\n",
    "Començant amb el fitxer reduit però després ja agafant totes les dades del 2022, calcula la mitjana de les rendes per persona a cada districte de barcelona. "
   ]
  },
  {
   "cell_type": "code",
   "execution_count": null,
   "id": "00458c85",
   "metadata": {},
   "outputs": [],
   "source": [
    "# Si et resulta útil, pots utilitzar aquest diccionari: \n",
    "\n",
    "districte = {'Ciutat Vella':1, 'Eixample':2, 'Sants-Montjuïc':3, 'Les Corts':4, 'Sarrià-St. Gervasi':5, \n",
    "             'Gràcia':6, 'Horta-Guinardó':7, 'Nou Barris':8, 'Sant Andreu':9, 'Sant Martí':10}"
   ]
  },
  {
   "cell_type": "code",
   "execution_count": null,
   "id": "edca3f67-0ced-42f3-bbd0-f9e031aa2056",
   "metadata": {},
   "outputs": [],
   "source": [
    "def mitjana_districte() -> list[int]:\n",
    "    '''  \n",
    "    Retorna una llista amb la mitjana de renda per barri de Barcelona.\n",
    "    \n",
    "    :param: None\n",
    "    :return: llista amb la mitjana de renda per barri de Barcelona.\n",
    "    '''\n"
   ]
  },
  {
   "cell_type": "markdown",
   "id": "c2ce61b2",
   "metadata": {},
   "source": [
    "Calcula la complexitat d'aquest algorisme i calcula la complexitat per als fitxers de 2020 i 2021, en funció de la n que has definit."
   ]
  },
  {
   "cell_type": "code",
   "execution_count": null,
   "id": "6bab4a1c",
   "metadata": {},
   "outputs": [],
   "source": []
  },
  {
   "cell_type": "markdown",
   "id": "eb89d9b1",
   "metadata": {},
   "source": [
    "## ✍️ Problema 3: Negoci piramidal\n",
    "\n",
    "Sembla ser que a Barcelona el 2022 es va posar de moda un negoci piràmidal de venda de les rajoles típiques amb la flor, i que a qui s'hi apunta li prometien uns guanys exponencials. (La realitat va ser un bluf i molta gent hi va perdre diners)\n",
    "\n",
    "Concretament si invertien 1000 € i reclutaven 1000 persones, el guany prometia ser de $1000^1000$.\n",
    "\n",
    "Segurament s'hi van apuntar les persones del barri amb una renda més baixa.\n",
    "\n",
    "Crea una funció que estimi quin és el barri que s'apuntrà a aquesta iniciativa.\n",
    "\n",
    "Crea una segona funció que calculi els guanys en funció dels diners invertits i de les persones reclutades. El càlcul ha de ser òptim i pots usar l'algorisme d'exponenciació que s'ha vist a teoria."
   ]
  },
  {
   "cell_type": "code",
   "execution_count": null,
   "id": "1f84770f",
   "metadata": {},
   "outputs": [],
   "source": [
    "# Pots utilitzar aquest diccionari:\n",
    "barris = {'el Raval': 1, 'el Barri Gòtic': 2, 'la Barceloneta': 3, 'Sant Pere': 4, 'el Fort Pienc': 5, 'la Sagrada Família': 6,\n",
    "          \"la Dreta de l'Eixample\": 7, \"l'Antiga Esquerra de l'Eixample\": 8, \"la Nova Esquerra de l'Eixample\": 9, 'Sant Antoni': 10,\n",
    "          'el Poble Sec - AEI Parc Montjuïc': 11, 'la Marina del Prat Vermell - AEI Zona Franca': 12, 'la Marina de Port': 13,\n",
    "          'la Font de la Guatlla': 14, 'Hostafrancs': 15, 'la Bordeta': 16, 'Sants - Badal': 17, 'Sants': 18, 'les Corts': 19,\n",
    "          'la Maternitat i Sant Ramon': 20, 'Pedralbes': 21, 'Vallvidrera': 22, 'Sarrià': 23, 'les Tres Torres': 24,\n",
    "          'Sant Gervasi - la Bonanova': 25, 'Sant Gervasi - Galvany': 26, 'el Putxet i el Farró': 27, 'Vallcarca i els Penitents': 28,\n",
    "          'el Coll': 29, 'la Salut': 30, 'la Vila de Gràcia': 31, \"el Camp d'en Grassot i Gràcia Nova\": 32, 'el Baix Guinardó': 33,\n",
    "          'Can Baró': 34, 'el Guinardó': 35, \"la Font d'en Fargues\": 36, 'el Carmel': 37, 'la Teixonera': 38,\n",
    "          'Sant Genís dels Agudells': 39, 'Montbau': 40, \"la Vall d'Hebron\": 41, 'la Clota': 42, 'Horta': 43,\n",
    "          'Vilapicina i la Torre Llobeta': 44, 'Porta': 45, 'el Turó de la Peira': 46, 'Can Peguera': 47, 'la Guineueta': 48,\n",
    "          'Canyelles': 49, 'les Roquetes': 50, 'Verdun': 51, 'la Prosperitat': 52, 'la Trinitat Nova': 53, 'Torre Baró': 54,\n",
    "          'Ciutat Meridiana': 55, 'Vallbona': 56, 'la Trinitat Vella': 57, 'Baró de Viver': 58, 'el Bon Pastor': 59, 'Sant Andreu': 60,\n",
    "          'la Sagrera': 61, 'el Congrés i els Indians': 62, 'Navas': 63, \"el Camp de l'Arpa del Clot\": 64, 'el Clot': 65,\n",
    "          'el Parc i la Llacuna del Poblenou': 66, 'la Vila Olímpica del Poblenou': 67, 'el Poblenou': 68,\n",
    "          'Diagonal Mar i el Front Marítim del Poblenou': 69, 'el Besòs i el Maresme': 70, 'Provençals del Poblenou': 71,\n",
    "          'Sant Martí de Provençals': 72, 'Sant Pere,  Santa Caterina i la Ribera':73, 'la Verneda i la Pau': 74, 'Vallvidrera, el Tibidabo i les Planes':75}"
   ]
  },
  {
   "cell_type": "code",
   "execution_count": 170,
   "id": "e9ad4dd7",
   "metadata": {},
   "outputs": [],
   "source": [
    "def barri_menor_renda() -> str:\n",
    "    '''Retorna el barri amb la renda més baixa.\n",
    "\n",
    "    :param: None\n",
    "    :return: nom del barri amb la renda més baixa.\n",
    "    '''\n"
   ]
  },
  {
   "cell_type": "code",
   "execution_count": null,
   "id": "5d66ad03",
   "metadata": {},
   "outputs": [],
   "source": [
    "def calcul_piramidal(base:int, exponent:int) -> int:\n",
    "    '''\n",
    "    Exponenciació per quadrats.\n",
    "\n",
    "    :param base: nombre base\n",
    "    :param exponent: exponent (≥ 0)\n",
    "    :return: base^exponent \n",
    "    '''\n"
   ]
  },
  {
   "cell_type": "markdown",
   "id": "7ae91b9a",
   "metadata": {},
   "source": [
    "## ✍️ Problema 4: Validació del codi bancari\n",
    "\n",
    "L'ajuntament ha decidit que no només vol estimar la renda per càpita sinó que vol calcular la renda real en una mostra de la població. \n",
    "\n",
    "Per això ha demanat voluntaris i el primer que els ha dit és que validin el seu compte bancari.\n",
    "\n",
    "En un compte bancari real, hi ha 20 xifres en total. Les 4 primeres corresponen al banc, les 4 següents a l'oficina. Tot seguit, hi ha 2 xifres de control. Finalment 10 xifres més que representen el compte.\n",
    "\n",
    "        BBBB-FFFF-CD-XXXXXXXXXX\n",
    "\n",
    "Per calcular el primer dígit de control, s'utilitzen els números corresponents al banc i l'oficina. Això correspon al 9è nombre de l'IBAN i l'anomenarem `digit1`. Tot seguit ve el segon dígit de control que es calcula amb les 10 últimes xifres, i anomenarem aquest nombre `digit2`.\n",
    "\n",
    "        BBBB-FFFF -> C (digit1)\n",
    "        XXXXXXXXXX -> D (digit2)\n",
    "\n",
    "## Dígit 1\n",
    "\n",
    "Calcula el primer dígit de control d'un compte bancari, sabent que aquest es calcula de la següent manera:\n",
    "Es multipliquen les xifres de l'entitat bancaria i l'oficina per $2^2$, $2^3$, ..., $2^{10}$ i se sumen els resultats (totes les operacions mòdul 11). Si anomenem aquesta suma $S$, seguidament es calcula $11-S$ i això correspon a `digit1`, a excepció de si es tracta d'un 10 o un 11, que llavors s'agafa 1 i 0 respectivament.\n",
    "\n",
    "\n",
    "Exemple: **BBBB-FFFF = 0004-3006**    \n",
    "\n",
    "\\begin{equation}\n",
    "    \\begin{cases}\n",
    "      0 \\cdot (2^2 \\% 11) + 0 \\cdot (2^3 \\% 11) + 0 \\cdot (2^4 \\% 11) + 4 \\cdot (2^5 \\% 11) = 40\\\\\n",
    "      3 \\cdot (2^6 \\% 11) + 0 \\cdot (2^7 \\% 11) + 0 \\cdot (2^8 \\% 11) + 6 \\cdot (2^9 \\% 11) = 27 + 36 = 63\\\\\n",
    "    \\end{cases}\n",
    "    \\quad \\rightarrow \\quad  (40 + 63) \\% 11 = 4  \\quad \\rightarrow \\quad  11 - 4 = 7  \n",
    "\\end{equation}\n",
    "             \n",
    "És a dir, el primer dígit de control és $C = 7$.\n",
    "\n",
    "Escriu una funció `digit_control_1` que donada una string amb 8 xifres, retorni el primer dígit de control. Intenta fer en tots els passos les operacions amb els nombres més petits possibles i sense fer servir l'operació mòdul quan no sigui necessari. Per fer-ho, recorda que pots utilitzar aquesta propietat del mòdul:\n",
    "\n",
    "\\begin{equation}\n",
    "    (n \\cdot m + k \\cdot l )(\\mod a) = \n",
    "    \\left [ (n \\mod a) \\cdot (m \\mod a) + (k \\mod a) \\cdot (l \\mod a) \n",
    "    \\right ] (\\mod a)\n",
    "\\end{equation}"
   ]
  },
  {
   "cell_type": "code",
   "execution_count": null,
   "id": "967db729",
   "metadata": {},
   "outputs": [],
   "source": [
    "def digit_control_1(num):\n",
    "    '''\n",
    "    Aquesta funció calcula el dígit de control corresponent a una entitat i oficina.\n",
    "\n",
    "    Parameters\n",
    "    ----------\n",
    "    num: string amb 8 caràcters corresponents a 8 enters\n",
    "\n",
    "    Returns\n",
    "    -------\n",
    "    digit1: int\n",
    "    '''\n"
   ]
  },
  {
   "cell_type": "code",
   "execution_count": null,
   "id": "9d8fc158-c600-4aa0-b9a1-d35a531161b0",
   "metadata": {},
   "outputs": [],
   "source": [
    "assert digit_control_1('00043006')==7\n",
    "assert digit_control_1('21000813')==6\n",
    "assert digit_control_1('21000014')==1\n",
    "assert digit_control_1('30250014')==0"
   ]
  },
  {
   "cell_type": "markdown",
   "id": "1afd8c64",
   "metadata": {},
   "source": [
    "## Dígit 2\n",
    "\n",
    "Calcula el segon dígit de control, sabent que es fa de la següent manera:\n",
    "\n",
    "Es multipliquen en ordre les 10 primeres xifres per $2^0, 2^1, 2^2, ..., 2^9$. Seguidament es calcula la seva suma mòdul 11. Finalment, aquest valor es resta d'onze i és el resultat. Tret si es tracta d'un 10 o un 11, en aquests casos es retorna 1 i 0 respectivament.\n",
    "\n",
    "Exemple: **XXXXXXXXXX = 2100081367**\n",
    "\n",
    "\\begin{equation}\n",
    "    2 \\cdot (1 \\% 11) + 1 \\cdot (2 \\% 11) + 0 \\cdot (2^2 \\% 11) + 0 \\cdot (2^3 \\% 11) + 0 \\cdot (2^4 \\% 11) \n",
    "    + 8 \\cdot (2^5 \\% 11) + 1 \\cdot (2^6 \\% 11) + 3 \\cdot (2^7 \\% 11) + 6 \\cdot (2^8 \\% 11) + 7 \\cdot (2^9 \\% 11) \\\\\n",
    "     2 + 2 + 0 + 0 + 0 + 6 + 2 + 9 + 6 + 4 = 31  \\quad \\rightarrow \\quad   31 \\% 11 = 9 \\quad \\rightarrow \\quad  11 - 9 = 2\n",
    "\\end{equation}\n",
    "\n",
    "És a dir, el segon dígit de control és $D = 2$.\n",
    "\n",
    "Escriu una funció `digit_control_2` que donada una string amb 10 xifres, retorni el segon dígit de control. Intenta fer en tots els passos les operacions amb els nombres més petits possibles i sense fer servir l'operació mòdul quan no sigui necessari."
   ]
  },
  {
   "cell_type": "code",
   "execution_count": null,
   "id": "e82ab588",
   "metadata": {},
   "outputs": [],
   "source": [
    "def digit_control_2(num):\n",
    "    '''\n",
    "    Aquesta funció calcula el segon dígit de control corresponent a un número de compte.\n",
    "\n",
    "    Parameters\n",
    "    ----------\n",
    "    num: string amb 10 caràcters corresponents a 10 enters\n",
    "\n",
    "    Returns\n",
    "    -------\n",
    "    digit2: int\n",
    "    '''\n"
   ]
  },
  {
   "cell_type": "markdown",
   "id": "cf3b88bb",
   "metadata": {},
   "source": [
    "El raonament del cost seria similar a la funció anterior."
   ]
  },
  {
   "cell_type": "code",
   "execution_count": 16,
   "id": "574a6715",
   "metadata": {},
   "outputs": [],
   "source": [
    "assert digit_control_2('2100081367') == 2\n",
    "assert digit_control_2('0004300672') == 1\n",
    "assert digit_control_2('2100001410') == 0\n",
    "assert digit_control_2('3025001403') == 4"
   ]
  },
  {
   "cell_type": "markdown",
   "id": "9fbee0d6",
   "metadata": {},
   "source": [
    "## Validesa\n",
    "Ara fes una funció que donada una string corresponent a un IBAN (que pot venir amb espais per separar grups de xifres o no) retorni si el número de compte és vàlid o no."
   ]
  },
  {
   "cell_type": "code",
   "execution_count": 26,
   "id": "3e7bc174",
   "metadata": {},
   "outputs": [],
   "source": [
    "def valid_IBAN(num):\n",
    "    \"\"\"\n",
    "    Funció que donada una cadena amb un IBAN comprova si els dígits de control són vàlids.\n",
    "\n",
    "    Parameters\n",
    "    ----------\n",
    "    num: cadena amb un número de 20 dígits corresponent a un IBAN\n",
    "\n",
    "    Returns\n",
    "    -------\n",
    "    valid: boolean\n",
    "    \"\"\"\n"
   ]
  },
  {
   "cell_type": "markdown",
   "id": "83b11c5e",
   "metadata": {},
   "source": [
    "Calcula la complexitat d'aquesta funció."
   ]
  },
  {
   "cell_type": "code",
   "execution_count": null,
   "id": "4c5aebe1",
   "metadata": {},
   "outputs": [],
   "source": []
  },
  {
   "cell_type": "code",
   "execution_count": 25,
   "id": "a321759e",
   "metadata": {},
   "outputs": [],
   "source": [
    "assert valid_IBAN('0019 0020 9612 3456 7890') == True\n",
    "assert valid_IBAN('3025 0001 15 1433277525') == True\n",
    "assert valid_IBAN('2100 0813 6712 3456 7890') == False\n",
    "assert valid_IBAN('2100 0813 67 1234567891') == False\n",
    "assert valid_IBAN('2100 0813 6712 3456 7891') == False\n",
    "assert valid_IBAN('00043006 72 2100081367') == True"
   ]
  }
 ],
 "metadata": {
  "kernelspec": {
   "display_name": "Python 3",
   "language": "python",
   "name": "python3"
  },
  "language_info": {
   "codemirror_mode": {
    "name": "ipython",
    "version": 3
   },
   "file_extension": ".py",
   "mimetype": "text/x-python",
   "name": "python",
   "nbconvert_exporter": "python",
   "pygments_lexer": "ipython3",
   "version": "3.10.12"
  }
 },
 "nbformat": 4,
 "nbformat_minor": 5
}
