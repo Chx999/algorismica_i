{
 "cells": [
  {
   "cell_type": "markdown",
   "id": "c1fe310a",
   "metadata": {},
   "source": [
    "# 📘 Tema 1 — Introducció a Python"
   ]
  },
  {
   "cell_type": "markdown",
   "id": "e7b718a7-f7d7-425e-9786-065d79fc3bcd",
   "metadata": {},
   "source": [
    "## 🧠 Escenari: CityAI — Sensors Urbans\n",
    "Aquest notebook introdueix els conceptes bàsics de Python mitjançant reptes contextualitzats en una ciutat intel·ligent.\n",
    "\n",
    "Segons [la llei de protecció de soroll](https://www.parlament.cat/document/nom/TL%2022In.pdf) els nivells acceptables de  soroll a la ciutat són els següents:\n",
    "\n",
    "| Zona | Dia | Nit |\n",
    "|------|-----|-----|\n",
    "| A    | 60  | 50  |\n",
    "| B    | 65  | 55  |\n",
    "| C    | 70  | 60  |\n",
    "\n",
    "A Barcelona, hi ha una [xarxa de monitorització de sorolls](https://opendata-ajuntament.barcelona.cat/data/es/dataset/xarxasoroll-equipsmonitor-dades/resource/eb8afdeb-6a0c-48d9-9ef4-e6d95ca2361c) que ens facilita les dades de cada sensor, cada minut. I ens dona els decibels registrats.\n",
    "\n",
    "Ho podem veure en un [mapa](https://ajuntament.barcelona.cat/mapes-dades-ambientals/soroll/ca/).\n",
    "\n",
    "A algorísmica hem descarregat les dades del sensor 9808, situat a l'eixample, durant els dies 1 a 3 de maig de 2025,\"9808Dies1a3.csv\", per poder-les treballar una mica. N'hem fet una versió més reduida encara, \"9808Dies1a3reduit.csv\", per a que hi puguis jugar inicialment. \n",
    "\n",
    "En aquest fixer el nivell de soroll es dóna multiplicat per 10, és a dir si al fitxer posa 700 vol dir un nivell de 70. L'horari diurn es considera de les 7h a les 22h59. L'horari nocturn de les 23h00 a les 6h59."
   ]
  },
  {
   "cell_type": "markdown",
   "id": "2f471b57",
   "metadata": {},
   "source": [
    "### 🧠 Objectius:\n",
    "\n",
    "- Familiaritzar-se amb la sintaxi de Python\n",
    "- Entendre variables, expressions, funcions, iteració i entrada de dades\n",
    "- Aplicar el pensament algorítmic a problemes reals simples"
   ]
  },
  {
   "cell_type": "markdown",
   "id": "b65bd234-730d-44b0-bebb-be5132252f12",
   "metadata": {},
   "source": [
    "## ✍️ Problema 1: Num. enregistraments\n",
    "\n",
    "Calcula quants enregistraments s'han fet durant les  dades indicades? (1 a 3 de maig, 1 enregistrament per minut, un únic sensor)."
   ]
  },
  {
   "cell_type": "code",
   "execution_count": null,
   "id": "7e51b12f-27f6-4fdb-ae9c-7dc3b74fd65c",
   "metadata": {},
   "outputs": [],
   "source": []
  },
  {
   "cell_type": "markdown",
   "id": "306eed8e-687d-4273-a853-b75dc846a2ad",
   "metadata": {},
   "source": [
    "Fes una funció que calculi el nombre d'enregistraments a partir del nombre de sensors indicats i dels dies enregistrats."
   ]
  },
  {
   "cell_type": "code",
   "execution_count": null,
   "id": "872e33a9-fb31-45bc-9496-c45a947f1c70",
   "metadata": {},
   "outputs": [],
   "source": []
  },
  {
   "cell_type": "markdown",
   "id": "efde4be2-f731-49bb-a40a-8d913f991658",
   "metadata": {},
   "source": [
    "## ✍️ Problema 2: Llegir les dades del fitxer\n",
    "\n",
    "Amb les instruccions de fitxers que has après, obre el fitxer \"9808Dies1a3reduit.csv\" i llegeix la primera fila.\n"
   ]
  },
  {
   "cell_type": "code",
   "execution_count": null,
   "id": "edca3f67-0ced-42f3-bbd0-f9e031aa2056",
   "metadata": {},
   "outputs": [],
   "source": []
  },
  {
   "cell_type": "markdown",
   "id": "eb89d9b1",
   "metadata": {},
   "source": [
    "## ✍️ Problema 3: Màxima contaminació\n",
    "\n",
    "Pas 1. Començant amb  el fitxer reduit, fes una funció que et retorni la dada de màxim volum de soroll.\n",
    "\n",
    "Pas 2. Ara fes que la funció també et retorni l'hora en què s'ha produït el màxim volum.\n",
    "\n",
    "Pas 3. Aplica la funció al fitxer més gran."
   ]
  },
  {
   "cell_type": "code",
   "execution_count": null,
   "id": "715aa092",
   "metadata": {},
   "outputs": [],
   "source": [
    "def maxima_contaminacio():\n"
   ]
  },
  {
   "cell_type": "code",
   "execution_count": null,
   "id": "5a240459-cd5c-45ba-96fd-53d52bb94836",
   "metadata": {},
   "outputs": [],
   "source": [
    "maxima_contaminacio()"
   ]
  },
  {
   "cell_type": "markdown",
   "id": "7ae91b9a",
   "metadata": {},
   "source": [
    "## ✍️ Problema 4: Infraccions dels nivells tolerats\n",
    "\n",
    "Tot i que aquest sensor es troba en una zona no sensible (C), els nivells de soroll admesos sovint s'excedeixen. Podem suposar que els veïns tenen una tolerància de +15 els valors indicats.\n",
    "\n",
    "Revisa els continguts del fitxer gran i mostra per pantalla totes les hores en que s'ha sobrepassat el nivell de soroll acceptat. "
   ]
  },
  {
   "cell_type": "code",
   "execution_count": null,
   "id": "967db729",
   "metadata": {},
   "outputs": [],
   "source": []
  }
 ],
 "metadata": {
  "kernelspec": {
   "display_name": "Python 3 (ipykernel)",
   "language": "python",
   "name": "python3"
  },
  "language_info": {
   "codemirror_mode": {
    "name": "ipython",
    "version": 3
   },
   "file_extension": ".py",
   "mimetype": "text/x-python",
   "name": "python",
   "nbconvert_exporter": "python",
   "pygments_lexer": "ipython3",
   "version": "3.13.7"
  }
 },
 "nbformat": 4,
 "nbformat_minor": 5
}
