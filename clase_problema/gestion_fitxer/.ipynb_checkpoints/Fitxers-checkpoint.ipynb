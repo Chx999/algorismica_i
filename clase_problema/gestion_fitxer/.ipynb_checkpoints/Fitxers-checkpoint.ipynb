{
 "cells": [
  {
   "cell_type": "markdown",
   "metadata": {
    "id": "dJvkvLujAYvi"
   },
   "source": [
    "# 📘 Assignatura d'Algorísmica - Input/Output amb fitxers"
   ]
  },
  {
   "cell_type": "code",
   "execution_count": 2,
   "metadata": {},
   "outputs": [],
   "source": [
    "fitxer_classe = open(\"exemple.txt\", \"w\")\n",
    "fitxer_classe.close()"
   ]
  },
  {
   "cell_type": "code",
   "execution_count": 3,
   "metadata": {},
   "outputs": [],
   "source": [
    "fitxer = open(\"fitxerprova.txt\", \"w\") \n",
    " \n",
    "fitxer.write(\"Hola món\\n\")  # el caràcter \\n indica salt de línia\n",
    "fitxer.write(\"Aquest és el nostre fitxer de text nou\\n\") \n",
    "fitxer.write(\"i això és una línia nova\\n\") \n",
    "fitxer.write(\"I el fitxer s'ha creat.\\n\") \n",
    " \n",
    "fitxer.close()"
   ]
  },
  {
   "cell_type": "code",
   "execution_count": 26,
   "metadata": {},
   "outputs": [
    {
     "name": "stdout",
     "output_type": "stream",
     "text": [
      "Hola món\n",
      "Aquest és el nostre fitxer de text nou\n",
      "i això és una línia nova\n",
      "I el fitxer s'ha creat.\n",
      "\n"
     ]
    }
   ],
   "source": [
    "fitxer = open(\"fitxerprova.txt\", \"r\")\n",
    "contingut = print(fitxer.read())\n",
    "# print(type(contingut))\n",
    "fitxer.close()"
   ]
  },
  {
   "cell_type": "code",
   "execution_count": 21,
   "metadata": {},
   "outputs": [
    {
     "name": "stdout",
     "output_type": "stream",
     "text": [
      "Hola món\n",
      "\n",
      "Aquest és el nostre fitxer de text nou\n",
      "\n",
      "i això és una línia nova\n",
      "\n",
      "I el fitxer s'ha creat.\n",
      "\n"
     ]
    }
   ],
   "source": [
    "# llegir linea en linea\n",
    "fitxer = open(\"fitxerprova.txt\", \"r\")\n",
    "# contingut = fitxer.readlines()\n",
    "# print(contingut)\n",
    "\n",
    "for l in fitxer:\n",
    "    print(l)\n",
    "\n",
    "fitxer.close()"
   ]
  },
  {
   "cell_type": "code",
   "execution_count": null,
   "metadata": {},
   "outputs": [],
   "source": [
    "with open(fitxerprova.txt) as file:\n",
    "    data = file.read()\n",
    "    print(data)"
   ]
  },
  {
   "cell_type": "markdown",
   "metadata": {
    "id": "qVgx7UeSAYvv",
    "jp-MarkdownHeadingCollapsed": true
   },
   "source": [
    "## 🧠 Fitxers\n",
    "\n",
    "Sovint les dades d´un algorisme es troben a memòria permanent en un fitxer. Des de Python podem llegir i escriure fitxers amb algunes instruccions particulars. En aquesta assignatura només veurem fitxers de text.\n",
    "\n",
    "### Obrir un fitxer i tancar-lo\n",
    "Per poder treballar amb un fitxer primer de tot cal obrir-lo\n",
    "\n",
    "**Atenció**: el fitxer ha de ser a la mateixa carpeta que el notebook\n",
    "\n",
    "```python\n",
    "elMeuFitxer = open(\"nom fitxer\", \"mode\") \n",
    "```\n",
    "a on nom fitxer és el nom del fitxer en el disc i mode pot ser r (read) per llegir, w (write) per escriure [si no hi ha cap fitxer això el crea] o altres que no tractarem.\n",
    "\n",
    "Per exemple:\n",
    "```python\n",
    "elMeuFitxer = open(\"prova.txt\", r) \n",
    "```\n",
    "obre el fitxer prova.txt en mode lectura (només podrem llegir, no escriure)\n",
    "\n",
    "Hem de pensar sempre a tancar els fitxers un cop oberts perquè altrament es podrien produir resultats inesperats a l´hora de fer altres entrades o sortides o podriem tenir problemes de memòria.\n",
    "\n",
    "```python\n",
    "elMeuFitxer.close()\n",
    "```\n",
    "\n",
    "### Escriure en un fitxer\n",
    "\n",
    "Un cop tinguem el fitxer obert ja podem fer coses amb ell. Per ex:\n",
    "\n",
    "```python\n",
    "fitxer = open(\"fitxerprova.txt\", \"w\") \n",
    " \n",
    "fitxer.write(\"Hola món\\n\")  # el caràcter \\n indica salt de línia\n",
    "fitxer.write(\"Aquest és el nostre fitxer de text nou\\n\") \n",
    "fitxer.write(\"i això és una línia nova\\n\") \n",
    "fitxer.write(\"I el fitxer s'ha creat.\\n\") \n",
    " \n",
    "fitxer.close() \n",
    "```\n",
    "\n",
    "I efectivament si mirem el fitxer amb un editor de text, a dintre hi veurem:\n",
    "```python\n",
    "Hola món\n",
    "Aquest és el nostre fitxer de text nou\n",
    "i això és una línia nova\n",
    "I el fitxer s´ha creat.\n",
    "```\n",
    "\n",
    "### Llegir d'un fitxer\n",
    "\n",
    "Quan llegim un fitxer python ens retorna un string amb el seu contingut\n",
    "\n",
    "```python\n",
    "file = open(\"fitxerprova.txt\", \"r\") \n",
    "print(file.read())\n",
    "file.close() \n",
    "```\n",
    "\n",
    "Que ens mostrarà:\n",
    "\n",
    "```python\n",
    "    Hola món\n",
    "    Aquest és el nostre fitxer de text nou\n",
    "    i això és una línia nova\n",
    "    I el fitxer s'ha creat.\n",
    "```\n",
    "\n",
    "\n",
    "o també podem optar a llegir-lo línia a línia\n",
    "```python\n",
    "file = open(\"fitxerprova.txt\", \"r\") \n",
    "print(file.readlines())\n",
    "file.close() \n",
    "```\n",
    "Que ens mostrarà\n",
    "```python\n",
    "['Hola món\\n', 'Aquest és el nostre fitxer de text nou\\n', 'i això és una línia nova\\n', 'I el fitxer s'ha creat.\\n']\n",
    "```\n",
    "\n",
    "Podem també recorrer un fitxer dins una iteració:\n",
    "```python\n",
    "file = open(\"fitxerprova.txt\", \"r\") \n",
    "for l in file:\n",
    "    print(l)\n",
    "file.close() \n",
    "```\n",
    "\n",
    "Que ens mostrarà\n",
    "```python\n",
    "Hola món\n",
    "\n",
    "Aquest és el nostre fitxer de text nou\n",
    "\n",
    "i això és una línia nova\n",
    "\n",
    "I el fitxer s'ha creat..\n",
    "```\n",
    "\n",
    "### Gestió elegant de fitxers\n",
    "Quan volem fer diverses accions de lectura sobre un fitxer podem usar l´ordre with...\n",
    "\n",
    "```python\n",
    "with open(\"fitxerprova.txt\") as file:  \n",
    "    data = file.read() \n",
    "    do something with data \n",
    "```\n",
    "\n",
    "amb el with obrim sempre en mode lectura, i no ens cal indicar el tancament\n",
    "\n",
    "És molt recomanable doncs usar aquesta sintaxi quan s´escau.\n"
   ]
  },
  {
   "cell_type": "markdown",
   "metadata": {
    "id": "mkuJCdnvAYvv"
   },
   "source": [
    "## ✍️ Exercici 1\n",
    "Crea un fitxer a la mateixa carpeta on tinguis aquest notebook i amb instruccions Python escriu-hi la lletra d'una estrofa de cançó que t'agradi. Fes servir la instrucció `with...`"
   ]
  },
  {
   "cell_type": "code",
   "execution_count": 27,
   "metadata": {},
   "outputs": [],
   "source": [
    "fitxer_estrofa = open(\"song.txt\", \"w\")\n",
    "\n",
    "fitxer_estrofa.write(\"asdfasdfadsf\\n\")\n",
    "fitxer_estrofa.write(\"asdfasdfadsf\\n\")\n",
    "fitxer_estrofa.write(\"asdfasdfadsf\\n\")\n",
    "fitxer_estrofa.write(\"asdfasdfadsf\\n\")\n",
    "\n",
    "fitxer_estrofa.close()"
   ]
  },
  {
   "cell_type": "markdown",
   "metadata": {
    "id": "mkuJCdnvAYvv"
   },
   "source": [
    "## ✍️ Exercici 2\n",
    "Llegeix el fitxer que has creat i mostra'l a pantalla linea a línea."
   ]
  },
  {
   "cell_type": "code",
   "execution_count": 28,
   "metadata": {},
   "outputs": [
    {
     "name": "stdout",
     "output_type": "stream",
     "text": [
      "asdfasdfadsf\n",
      "\n",
      "asdfasdfadsf\n",
      "\n",
      "asdfasdfadsf\n",
      "\n",
      "asdfasdfadsf\n",
      "\n"
     ]
    }
   ],
   "source": [
    "fitxer_estrofa = open(\"song.txt\", \"r\")\n",
    "for l in fitxer_estrofa:\n",
    "    print(l)\n",
    "\n",
    "fitxer_estrofa.close()"
   ]
  },
  {
   "cell_type": "code",
   "execution_count": 31,
   "metadata": {},
   "outputs": [
    {
     "name": "stdout",
     "output_type": "stream",
     "text": [
      "asdfasdfadsf\n",
      "\n",
      "asdfasdfadsf\n",
      "\n",
      "asdfasdfadsf\n",
      "\n",
      "asdfasdfadsf\n",
      "\n",
      "Titol\n"
     ]
    }
   ],
   "source": [
    "fitxer_estrofa = open(\"song.txt\", \"r\")\n",
    "lista_estrofa = fitxer_estrofa.readlines()\n",
    "for l in lista_estrofa:\n",
    "    print(l)\n",
    "\n",
    "fitxer_estrofa.close()"
   ]
  },
  {
   "cell_type": "markdown",
   "metadata": {
    "id": "mkuJCdnvAYvv"
   },
   "source": [
    "## ✍️ Exercici 3\n",
    "Afegeix-li una línia amb el títol de la cançó."
   ]
  },
  {
   "cell_type": "markdown",
   "metadata": {},
   "source": [
    "L'has pogut afegir a l'inici?"
   ]
  },
  {
   "cell_type": "code",
   "execution_count": 30,
   "metadata": {},
   "outputs": [],
   "source": [
    "fitxer = open(\"song.txt\",\"a\")\n",
    "fitxer.write(\"Titol\")\n",
    "\n",
    "fitxer.close()"
   ]
  },
  {
   "cell_type": "code",
   "execution_count": null,
   "metadata": {},
   "outputs": [],
   "source": []
  }
 ],
 "metadata": {
  "colab": {
   "name": "Fitxers.ipynb",
   "provenance": []
  },
  "kernelspec": {
   "display_name": "Python 3 (ipykernel)",
   "language": "python",
   "name": "python3"
  },
  "language_info": {
   "codemirror_mode": {
    "name": "ipython",
    "version": 3
   },
   "file_extension": ".py",
   "mimetype": "text/x-python",
   "name": "python",
   "nbconvert_exporter": "python",
   "pygments_lexer": "ipython3",
   "version": "3.13.7"
  }
 },
 "nbformat": 4,
 "nbformat_minor": 4
}
