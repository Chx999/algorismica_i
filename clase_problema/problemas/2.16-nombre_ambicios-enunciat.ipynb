{
 "cells": [
  {
   "cell_type": "markdown",
   "metadata": {
    "id": "fNnufs16DMFA"
   },
   "source": [
    "# Capítol 2 - Algorismes bàsics de Python"
   ]
  },
  {
   "cell_type": "markdown",
   "metadata": {},
   "source": [
    "## 2.16 Nombres ambiciosos"
   ]
  },
  {
   "cell_type": "markdown",
   "metadata": {},
   "source": [
    "Un nombre és ambiciós si la suma dels seus factors és, quan apliquem recursivament aquesta definició, un nombre perfecte. \n",
    "\n",
    "Per exemple, 95:\n",
    "+ Els seus divisors propis són 1, 5 i 19. La seva suma és 25.\n",
    "+ Els divisors propis de 25 són 1 i 5. La seva suma és 6.\n",
    "+ 6 és un nombre perfecte.\n",
    "\n",
    "Escriu una funció que determini si un nombre és ambiciós."
   ]
  },
  {
   "cell_type": "markdown",
   "metadata": {
    "id": "FPKbIkjjDMFT"
   },
   "source": [
    "#### 2.13  Nombres perfectes\n",
    "\n",
    "Però què és un nombre perfecte?\n",
    "\n",
    "Diem que un nombre és *perfecte* si és la suma dels seus divisors positius menors que ell mateix. Per exemple, el nombre $6$ és un nombre perfecte ja que els seus divirors són $1$, $2$ i $3$ i es compleix que $6 == 1 + 2 + 3$."
   ]
  },
  {
   "cell_type": "markdown",
   "metadata": {},
   "source": [
    "Per començar escriu una funció que determini si un nombre és perfecte i retorni un valor booleà amb el resultat.\n",
    "Fes servir aquesta plantilla per escriure el teu codi:"
   ]
  },
  {
   "cell_type": "code",
   "execution_count": null,
   "metadata": {},
   "outputs": [],
   "source": [
    "def perfecte(nre:int) -> bool:\n",
    "    \"\"\"\n",
    "    Aquesta funció comprova si un nombre és perfecte.\n",
    "    Parameters\n",
    "    ----------\n",
    "    nre: int  El nombre que es vol comprovar.\n",
    "    Returns\n",
    "    -------\n",
    "    b: bool  Si el nombre d'entrada és un nombre perfecte.\n",
    "    \"\"\"\n",
    "    "
   ]
  },
  {
   "cell_type": "code",
   "execution_count": 13,
   "metadata": {},
   "outputs": [],
   "source": [
    "assert perfecte(6) == True\n",
    "assert perfecte(8) == False\n",
    "assert perfecte(28) == True"
   ]
  },
  {
   "cell_type": "markdown",
   "metadata": {},
   "source": [
    "### Nombre ambiciós\n",
    "\n",
    "Ara sí, pots escriure la funció d'ambiciós.  Pots cridar la funció perfecte o refer-la si et convé."
   ]
  },
  {
   "cell_type": "code",
   "execution_count": null,
   "metadata": {
    "id": "4nyj_TwODMFT"
   },
   "outputs": [],
   "source": [
    "def ambicios(num:int) -> bool:\n",
    "    \"\"\"\n",
    "    Aquesta funció comprova si un nombre es ambiciós.\n",
    "    \n",
    "    Parameters\n",
    "    ----------\n",
    "    num: int\n",
    "        El número que es vol comprovar\n",
    "    \n",
    "    Returns\n",
    "    -------\n",
    "    b: bool\n",
    "        Si el nombre d'entrada és un nombre ambiciós\n",
    "    \n",
    "    \"\"\"\n",
    "    \n",
    " "
   ]
  },
  {
   "cell_type": "code",
   "execution_count": 38,
   "metadata": {
    "id": "HOqJX1ulDMFT"
   },
   "outputs": [],
   "source": [
    "assert ambicios(25) == True  \n",
    "assert ambicios(100) == False \n",
    "assert ambicios(143) == True "
   ]
  },
  {
   "cell_type": "code",
   "execution_count": null,
   "metadata": {
    "id": "U2O8iOEKDMFT"
   },
   "outputs": [],
   "source": [
    "def ambicios_recursiu(num:int) -> bool:\n",
    "    \"\"\"\n",
    "    Aquesta funció comprova si un nombre es ambiciós, amb un algorisme recursiu\n",
    "    \n",
    "    Parameters\n",
    "    ----------\n",
    "    num: int\n",
    "        El número que es vol comprovar\n",
    "    \n",
    "    Returns\n",
    "    -------\n",
    "    b: bool\n",
    "        Si el nombre d'entrada és un nombre ambiciós\n",
    "    \n",
    "    \"\"\""
   ]
  },
  {
   "cell_type": "code",
   "execution_count": 21,
   "metadata": {
    "id": "INhShBsIDMFT"
   },
   "outputs": [],
   "source": [
    "assert ambicios_recursiu(25) == True  \n",
    "assert ambicios_recursiu(100) == False \n",
    "assert ambicios_recursiu(143) == True "
   ]
  }
 ],
 "metadata": {
  "colab": {
   "collapsed_sections": [],
   "name": "2.16.ipynb",
   "provenance": []
  },
  "kernelspec": {
   "display_name": "base",
   "language": "python",
   "name": "python3"
  },
  "language_info": {
   "codemirror_mode": {
    "name": "ipython",
    "version": 3
   },
   "file_extension": ".py",
   "mimetype": "text/x-python",
   "name": "python",
   "nbconvert_exporter": "python",
   "pygments_lexer": "ipython3",
   "version": "3.11.7"
  }
 },
 "nbformat": 4,
 "nbformat_minor": 0
}
