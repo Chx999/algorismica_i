{
 "cells": [
  {
   "cell_type": "code",
   "execution_count": null,
   "id": "f38042cc",
   "metadata": {},
   "outputs": [],
   "source": [
    "from __future__ import annotations\n",
    "from typing import Any, List, Dict, Set, Tuple, Optional\n",
    "# Aquest notebook s'ha actualitzat per seguir PEP 8 i afegir anotacions de tipus bàsiques."
   ]
  },
  {
   "cell_type": "markdown",
   "metadata": {
    "id": "8f05sWd8Mr45"
   },
   "source": [
    "# Capítol 2 - Algorismes bàsics de Python"
   ]
  },
  {
   "cell_type": "markdown",
   "metadata": {
    "id": "zDweDCC-Mr5K"
   },
   "source": [
    "### 2.12 Nombres amics"
   ]
  },
  {
   "cell_type": "markdown",
   "metadata": {},
   "source": [
    "Diem que dos nombres són amics si la suma dels divisors d'un d'ells és equivalent a l'altre i viceversa. Per exemple:\n",
    "- Els divisors de $220$ són $1,2,4,5,10,11,20,22,44,55,110$ que sumen $284$.\n",
    "- Els divisors de $284$ són $1,2,4,71, 142$, que sumen $220$.\n",
    "\n",
    "Per tant, $220$ i $284$ són amics. Escriu una funció que determini si una parella de nombres són amics. Fes servir aquesta plantilla per escriure el teu codi."
   ]
  },
  {
   "cell_type": "code",
   "execution_count": null,
   "metadata": {
    "id": "a9j3mUAKMr5K"
   },
   "outputs": [],
   "source": [
    "def suma_dividors(num: int) -> int:\n",
    "    '''\n",
    "    sumar els divisors dels numbres entrats\n",
    "    '''\n",
    "\n",
    "\n",
    "\n",
    "def amics(num1:int, num2:int) -> bool:\n",
    "    \"\"\"\n",
    "    Aquesta funció comprova si dos nombres són amics.\n",
    "    \n",
    "    Parameters\n",
    "    ----------\n",
    "    num1: int\n",
    "        El primer número\n",
    "    num2: int\n",
    "        El segon números\n",
    "    \n",
    "    Returns\n",
    "    -------\n",
    "    b: bool\n",
    "        Si la parella de nombres d'entrada són amics    \n",
    "    \"\"\"\n",
    "    suma1 = suma_dividors(num1)\n",
    "    suma2 = suma_dividors(num2)\n"
   ]
  },
  {
   "cell_type": "code",
   "execution_count": 4,
   "metadata": {
    "id": "ZrkR02ENMr5K"
   },
   "outputs": [],
   "source": [
    "assert amics(220, 284) == True\n",
    "assert amics(200, 230) == False\n",
    "assert amics(9363584, 9437056) == True"
   ]
  }
 ],
 "metadata": {
  "colab": {
   "collapsed_sections": [],
   "name": "2.12.ipynb",
   "provenance": []
  },
  "kernelspec": {
   "display_name": "base",
   "language": "python",
   "name": "python3"
  },
  "language_info": {
   "codemirror_mode": {
    "name": "ipython",
    "version": 3
   },
   "file_extension": ".py",
   "mimetype": "text/x-python",
   "name": "python",
   "nbconvert_exporter": "python",
   "pygments_lexer": "ipython3",
   "version": "3.11.7"
  }
 },
 "nbformat": 4,
 "nbformat_minor": 4
}
