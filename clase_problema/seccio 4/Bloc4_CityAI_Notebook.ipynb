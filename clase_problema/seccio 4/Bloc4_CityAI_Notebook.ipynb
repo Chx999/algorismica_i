{
 "cells": [
  {
   "cell_type": "markdown",
   "id": "c1fe310a",
   "metadata": {},
   "source": [
    "# 📘 Tema 3 — Algorismes numèrics i complexitat"
   ]
  },
  {
   "cell_type": "markdown",
   "id": "e7b718a7-f7d7-425e-9786-065d79fc3bcd",
   "metadata": {},
   "source": [
    "## 🧠 Escenari: CityAI — Encriptar un missatge\n",
    "Aquest notebook treballa temes d'aritmètica modular que s'han vist o es veuran a laboratori i a teoria per consolidar-los.\n",
    "\n",
    "Es treballa la identificació de nombres primers i l'enviament i recepció de missatges encriptats.\n",
    "\n",
    "Part del codi es correspon al codi ja vist a teoria i s'aprofita aquesta sessió per entrendre'l i treballar la complexitat."
   ]
  },
  {
   "cell_type": "markdown",
   "id": "2f471b57",
   "metadata": {},
   "source": [
    "### 🧠 Objectius:\n",
    "\n",
    "- Practicar les operacions d'aritmètica modular i calcular-ne la complexitat.\n",
    "- Aplicar el pensament algorítmic a problemes reals i raonar a partir de l'ordre de complexitat dels problemes."
   ]
  },
  {
   "cell_type": "markdown",
   "id": "b65bd234-730d-44b0-bebb-be5132252f12",
   "metadata": {},
   "source": [
    "## ✍️ Problema 1: Observa el codi d'Eratòstenes donat a classe i de la versió més curta. Reflexiona sobre la seva complexitat.\n",
    "\n",
    "El [sedàs d'Eratòstenes](https://ca.wikipedia.org/wiki/Sed%C3%A0s_d%27Erat%C3%B2stenes) és un algorisme per cercar tots els nombres primers fins un determinat enter. Aquest algorisme te la forma següent:\n",
    "\n",
    "- Escriu una llista ``llista1`` amb els nombres del $2$ fins a l'enter $N$ que vulguis calcular.\n",
    "- El primer nombre de la llista és un nombre primer. Anota'l en una llista de nombres primers, ``llista2``.\n",
    "- Esborra de la llista ``llista1`` el primer nombre i els seus múltiples.\n",
    "- Si el primer nombre de la llista ``llista1`` és més petit que $\\sqrt{N}$ torna al punt $2$.\n",
    "- Els nombres de la llista ``llista2`` i els que queden a la llista ``llista1`` són tots els nombres primers cercats.\n",
    "\n",
    "Implementa la funció ``eratostenes`` implementat l'algorisme d'Eratòstenes. A més a més, implementa la funció ``primer`` que retorna l'ennessim primer."
   ]
  },
  {
   "cell_type": "markdown",
   "id": "6a0ece16",
   "metadata": {},
   "source": [
    "A continuació es mostra un codi optimitzat del sedàs d'Eratóstenes. La complexitat a continuació"
   ]
  },
  {
   "cell_type": "code",
   "execution_count": null,
   "id": "7e51b12f-27f6-4fdb-ae9c-7dc3b74fd65c",
   "metadata": {},
   "outputs": [],
   "source": [
    "from math import sqrt\n",
    "from random import randint  \n",
    "\n",
    "def eratostenes(n) :\n",
    "    \"\"\"\n",
    "    Aquesta funció implementa l'algorisme d'Eratòstenes per cercar tots els nombres primers fins a n.\n",
    "    \n",
    "    Parameters\n",
    "    ----------\n",
    "    n: int\n",
    "    \n",
    "    Returns\n",
    "    -------\n",
    "    ret: list\n",
    "    \"\"\"\n",
    "    sieve: list[bool] = [True for j in range(2, n+1)]\n",
    "    for j in range(2, int(sqrt(n))+1) :\n",
    "        i: int = j-2\n",
    "        if sieve[i]:\n",
    "            for k in range(j*j, n+1, j) :\n",
    "                sieve[k-2] = False\n",
    "    ret: list[int] = [j for j in range(2, n+1) if sieve[j-2]]\n",
    "    return ret\n",
    "\n",
    "def primer(n):\n",
    "    \"\"\"\n",
    "    Aquesta funció retorna l'ennessim primer.\n",
    "    \n",
    "    Parameters\n",
    "    ----------\n",
    "    n: int\n",
    "    \n",
    "    Returns\n",
    "    -------\n",
    "    primer: int\n",
    "    \"\"\"\n",
    "    sol: list[int] = []\n",
    "    x: int = 1\n",
    "    while len(sol) < n:\n",
    "        x *= n * 50 # Given bound. x/log(x) approximates the number of primes less or equal to x. With the Lambert W function a better bound can be found\n",
    "        sol = eratostenes(x)\n",
    "    return(sol[n-1])"
   ]
  },
  {
   "cell_type": "markdown",
   "id": "de9bf3ac",
   "metadata": {},
   "source": [
    "### Complexitat d'Eratóstenes\n",
    "\n",
    "\n",
    "       def eratostenes(n:int) :\n",
    "            sieve:list[bool] = [True for j in range(2,n+1)] ---------- O(n)\n",
    "            for j in range(2,int(sqrt(n))+1) : ------------------------ el de dintre del bucle x sqrt(n)    O(n*sqrt(n))\n",
    "               i:int = j-2 -------------------------------------------- O(1)\n",
    "                if sieve[i]: ------------------------------------------ O(1)\n",
    "                    for k in range(j*j,n+1,j) : ----------------------- el de dintre del bucle x n    O(n) (NOTA: no és una aproximació molt exacta)\n",
    "                       sieve[k-2] = False ----------------------------- O(1)\n",
    "            ret:list[int] = [j for j in range(2,n+1) if sieve[j-2]] --- O(n)\n",
    "            return ret ------------------------------------------------ O(1)\n",
    "\n",
    "Una primera aproximació a la complexitat de l'algorisme és $O(n\\sqrt{n})$.\n",
    "\n",
    "No obstant això, la complexitat es pot calcular més exactament obtenint la quantitat de nombres que s'han d'eliminar per als diferents nombres primers:\n",
    "\n",
    "$(n/2 + n/3 + n/5 + n/7 ...)=n(1/2+1/3+1/5+1/7 ...)$. \n",
    "\n",
    "Es pot demostrar que $(1/2+1/3+1/5+1/7 ...)=log(log(n))$. Per tant, la complexitat que s'obté és $O(n\\cdot log log(n))$."
   ]
  },
  {
   "cell_type": "markdown",
   "id": "891e2342",
   "metadata": {},
   "source": [
    "A continuació el codi donat a teoria"
   ]
  },
  {
   "cell_type": "code",
   "execution_count": null,
   "id": "b2789a15",
   "metadata": {},
   "outputs": [],
   "source": [
    "def crea_llista_N (n:int) -> list[tuple]:        # Crea la llista de nombres candidats, tots vius\n",
    "    llista:list[tuple] = []\n",
    "    for i in range(2, n+1):\n",
    "        llista.append((i,True))\n",
    "    return llista\n",
    "\n",
    "def primer_viu(A: list[tuple]) -> int:         # Recorre la llista fins a trobar el primer nombre viu\n",
    "    for i,(num, es_viu) in enumerate(A):\n",
    "        if es_viu:\n",
    "            return i\n",
    "    return len(A)+100                          # valor comodí per saber que no hi és\n",
    "\n",
    "def restants(A: list[tuple]) -> list[tuple]:    # Retorna tots els valors vius de la llista\n",
    "    llista:list[tuple] = []\n",
    "    for i,(num, es_viu) in enumerate(A):\n",
    "        if es_viu:\n",
    "            llista.append(num)\n",
    "    return llista\n",
    "\n",
    "\n",
    "def sedas_eratostenes(n: int) -> list[int]:    # Implementació bàsica de l'algorisme del sedàs\n",
    "    if n < 2:\n",
    "        return []\n",
    "    A: list[tuple] = crea_llista_N(n)          # pas 1 de l'algorisme\n",
    "    B: list[int] = []\n",
    "    arrel: int = n ** 0.5                      # quan el num sigui superior a l'arrel aturarem la cerca\n",
    "    acabat:bool = False\n",
    "    \n",
    "    while (not acabat):\n",
    "        i = primer_viu(A)\n",
    "        if i > len(A):\n",
    "            acabat = True\n",
    "        \n",
    "        valor_actual, estat = A[i]\n",
    "        B.append(valor_actual)                 # pas 2 de l'algorisme  \n",
    "        A[i]= (valor_actual, False)\n",
    "\n",
    "        if valor_actual > arrel:               # pas 4 de l'algorisme\n",
    "            acabat = True\n",
    "        \n",
    "        for j in range(i+1,len(A)):            # pas 3 de l'algorisme\n",
    "            v,viu = A[j]\n",
    "            if viu and (v % valor_actual == 0):\n",
    "                A[j] = (v, False)\n",
    "\n",
    "    return B + restants(A)                      # pas 5 de l'algorisme "
   ]
  },
  {
   "cell_type": "code",
   "execution_count": null,
   "id": "01e753ad",
   "metadata": {},
   "outputs": [],
   "source": [
    "assert primer(6) == 13\n",
    "assert primer(10001) == 104743"
   ]
  },
  {
   "cell_type": "markdown",
   "id": "e9893852",
   "metadata": {},
   "source": [
    "## ✍️ Problema 2: Observa els següents asserts i crea'n alguns de nous amb altres valors"
   ]
  },
  {
   "cell_type": "code",
   "execution_count": null,
   "id": "11891831",
   "metadata": {},
   "outputs": [],
   "source": [
    "assert eratostenes(1) == [], \"eratostenes(1) != []: No hi ha nombres primers fins a 1.\"\n",
    "assert eratostenes(48) == [2, 3, 5, 7, 11, 13, 17, 19, 23, 29, 31, 37, 41, 43, 47], \"La funció no retorna correctament tots els primers fins N quan N és compost\"\n",
    "assert eratostenes(47) == [2, 3, 5, 7, 11, 13, 17, 19, 23, 29, 31, 37, 41, 43, 47], \"La funció no retorna correctament tots els primers fins N quan N és primer\"\n"
   ]
  },
  {
   "cell_type": "markdown",
   "id": "ddb74e67",
   "metadata": {},
   "source": []
  },
  {
   "cell_type": "markdown",
   "id": "a7727326",
   "metadata": {},
   "source": [
    "## ✍️ Problema 3: Implementa ara l'algorisme d'Eratòstenes a la funció ``eratostenes_IO`` utilitzant mètodes d'entrada i sortida. "
   ]
  },
  {
   "cell_type": "code",
   "execution_count": null,
   "id": "31d63b31",
   "metadata": {},
   "outputs": [],
   "source": [
    "def eratostenes_IO(input_file, output_file):\n",
    "    \"\"\"\n",
    "    Aquesta funció implementa l'algorisme d'Eratòstenes per generar tots els nombres primers \n",
    "    fins a un nombre n, definit a un fitxer de text input_file, i guarda el resultat a un \n",
    "    fitxer de text output_file on estan escrits els primers ordenats i separats per coma.\n",
    "    Exemples de fitxers d'entrada i sortida són 'example_input_file.txt' i \n",
    "    'example_output_file.txt'. Assumim que el fitxer de sortida no existeix i que el fitxer\n",
    "    d'entrada existeix i està ben formatejat.\n",
    "    \n",
    "    Parameters\n",
    "    ----------\n",
    "    input_file: str \n",
    "    output_file: str\n",
    "\n",
    "    Returns\n",
    "    -------\n",
    "    Aquesta funció no retorna.\n",
    "    \"\"\"\n",
    "    "
   ]
  },
  {
   "cell_type": "code",
   "execution_count": null,
   "id": "dd131da3",
   "metadata": {},
   "outputs": [],
   "source": [
    "eratostenes_IO('./example_input_file.txt', './example_output_file.txt')"
   ]
  },
  {
   "cell_type": "code",
   "execution_count": null,
   "id": "24556e1b",
   "metadata": {},
   "outputs": [],
   "source": [
    "assert(all(map(lambda num_idx: primer(num_idx[0]+1)==num_idx[1], enumerate([2, 3, 5, 7, 11, 13, 17, 19, 23, 29, 31, 37, 41, 43, 47, 53, 59, 61, 67, 71, 73, 79, 83, 89, 97]))))"
   ]
  },
  {
   "cell_type": "markdown",
   "id": "4c6cd353",
   "metadata": {},
   "source": [
    "## ✍️ Problema 4: Encriptació de missatges\n",
    "\n",
    "Observa els codis donats a teoria i la seva complexitat. "
   ]
  },
  {
   "cell_type": "code",
   "execution_count": null,
   "id": "a321759e",
   "metadata": {},
   "outputs": [],
   "source": [
    "import math\n",
    "import random\n",
    "\n",
    "\n",
    "def fermat(num:int, test_count:int) -> bool:\n",
    "    if num == 1:\n",
    "        return False\n",
    "    for x in range(test_count):             # el de dintre per test_count\n",
    "        val:int = random.randint(1, num-1)     \n",
    "        if pow(val, num-1) % num != 1:      # n^3 on n = num\n",
    "            return False                   \n",
    "    return True\n",
    "\n",
    "# La complexitat és test_count x num^3\n",
    "\n",
    "def generar_primer(n:int)->int:\n",
    "    # print(\"Entrem a generar primer\")\n",
    "    trobat:bool = False              # 1 pas\n",
    "    valor_minim:int = 2**(n-1)       # O(1)\n",
    "    valor_maxim:int = 2**n           # O(1)\n",
    "    while not trobat:                # el cas pitjor: falla 1/2 de les vegades, el de dintre x2. Per Lagrange amb n intents el trobem\n",
    "        p:int = random.randint(valor_minim, valor_maxim)   # 1 pas\n",
    "        # print(\"generar_primer\",p)\n",
    "        trobat = fermat(p, 30)                             # 30^3 x 30 passos, pero no varia amb la n\n",
    "    return p\n",
    "\n",
    "# La complexitat és O(n) per Lagrange, on n és l'entrada. Validar si és primer està acotat. \n",
    "\n",
    "\n",
    "def trobar_e_d(m:int)->list[int]:\n",
    "    # e és un coprimer de m, és a dir si e és primer, m no és multiple de e\n",
    "    # d és l'invers modular de e (d*e mod M és congruent amb 1)\n",
    "    # això fa que elevar a e i després elevar a d recuperi l'M original\n",
    "    # print(\"Entrem a trobar e-d\")\n",
    "    trobat:bool = False                                # 1 pas0\n",
    "    while (not trobat):                                # Per lagrange sabem que amb n intents podem trobar e co-primer\n",
    "        e:int  = random.randint(1031,int(sqrt(m)+1))   # O(1)\n",
    "        # print(\"e\",e)\n",
    "        if  math.gcd(e,m)== 1:                         # O(n^2) pel gcd + 1 per la comparació\n",
    "            d:int = pow(e, -1, m)                      # O(n^2) perquè internament fa servir gcd\n",
    "            if d > 1:                                  # 1 pas\n",
    "                trobat = True                          # 1 pas\n",
    "    return [e,d]                                       # 1 pas\n",
    "\n",
    "# O(n^3) on la n és el número de dígits de la m (log2(m))\n",
    "\n",
    "\n",
    "def generar_claus(dificultat:int)->list[int]:\n",
    "    \"\"\"\n",
    "    Aquest funció genera les claus públiques i les claus privades per encriptar un missatge.\n",
    "\n",
    "    Parameters\n",
    "    ----------\n",
    "    dificultat: el nombre de bits de la clau n\n",
    "\n",
    "    Returns\n",
    "    -------\n",
    "    Retorna la clau publica [n,e] i la clau privada [n,d]\n",
    "    \"\"\"   \n",
    "    # print(\"Entrem a generar_claus\")\n",
    "    p:int = generar_primer(dificultat)     # O(n)\n",
    "    # print(\"p\",p)                     \n",
    "    q:int = generar_primer(dificultat)    # O(n)\n",
    "    # print(\"q\",q)                      \n",
    "    n:int = p * q\n",
    "    m:int = (p-1)*(q-1)\n",
    "    l:list[int] = trobar_e_d(m)           # O(log n)\n",
    "    e = l[0]\n",
    "    d = l[1]\n",
    "    return [[n,e],[n,d]]\n",
    "\n",
    "# Aquest algorisme té un ordre de complexitat d'O(n), on n és el valor de l'entrada.\n",
    "\n",
    "\n",
    "\n",
    "def encriptar_missatge(clau_publica:list[int],missatge:int)->int:\n",
    "    if missatge < 0 or missatge >= clau_publica[0]:\n",
    "        print(\"El missatge ha de tenir un valor entre 0 i n-1\")\n",
    "        return None\n",
    "    return pow(missatge,clau_publica[1],clau_publica[0])\n",
    "\n",
    "# O(n^3) on la n és el nombre de bits del missatge.\n",
    "\n",
    "\n",
    "def desencriptar_missatge(clau_privada:list[int],missatge_encriptat:int)->int:\n",
    "    return pow(missatge_encriptat,clau_privada[1],clau_privada[0])\n",
    "\n",
    "# O(n^3) on la n és el nombre de bits del missatge."
   ]
  },
  {
   "cell_type": "code",
   "execution_count": null,
   "id": "025a7e9e",
   "metadata": {},
   "outputs": [],
   "source": [
    "claus:list[any] = generar_claus(16)   # canviar 16 per altres valors si es vol més complex\n",
    "print(claus)              # llista de clau publica, clau privada\n",
    "M = 454588                # el missatge abans d'encriptar\n",
    "n = claus[0][0]\n",
    "e = claus[0][1]\n",
    "C = encriptar_missatge(claus[0], M)\n",
    "print(C)                  # el missatge encriptat"
   ]
  },
  {
   "cell_type": "markdown",
   "id": "621bdefb",
   "metadata": {},
   "source": [
    "## ✍️ Problema 5: Escriu l'algorisme per desencriptar el missatge amb factorització i calcula'n la complexitat.\n",
    "\n",
    "Disposes de la clau pública (n, e), i del missatge encriptat (C).\n",
    "\n",
    "Has de provar de trobar la clau privada i desencriptar el missatge. Si ho has fet bé obtindràs m\n",
    "\n"
   ]
  },
  {
   "cell_type": "code",
   "execution_count": null,
   "id": "3766979b",
   "metadata": {},
   "outputs": [],
   "source": []
  },
  {
   "cell_type": "code",
   "execution_count": null,
   "id": "1038ec81",
   "metadata": {},
   "outputs": [
    {
     "ename": "",
     "evalue": "",
     "output_type": "error",
     "traceback": [
      "\u001b[1;31m运行具有“Python 3.12.11”的单元格需要ipykernel包。\n",
      "\u001b[1;31m使用所需的包 <a href='command:jupyter.createPythonEnvAndSelectController'>创建 Python 环境</a>。"
     ]
    }
   ],
   "source": [
    "def factoritzar(num:int)->list[int]:  # pensat per factoritzar n, que és la multiplicació de dos primers\n",
    "    \"\"\"\n",
    "    Aquest funció troba un p,q tals que p * q = n\n",
    "\n",
    "    Parameters\n",
    "    ----------\n",
    "    n: el nombre a factoritzar\n",
    "\n",
    "    Returns\n",
    "    -------\n",
    "    p i q tals que p * q = n\n",
    "    \"\"\"   \n",
    "    primers = eratostenes(int(num**0.5) + 1)\n",
    "    divisors = []\n",
    "    for i in primers:\n",
    "        if num % i == 0:\n",
    "            divisors.append(i)\n",
    "    for p in divisors:\n",
    "        q = num // p\n",
    "        if q in divisors:\n",
    "            return [p, q]\n",
    "    return []\n",
    "\n",
    "def trobar_m(p:int, q: int)->int:\n",
    "    \"\"\"\n",
    "    Aquest funció calcula m tal que m = p - 1 * q - 1\n",
    "\n",
    "    Parameters\n",
    "    ----------\n",
    "    p i q : els dos operands per trobar m\n",
    "\n",
    "    Returns\n",
    "    -------\n",
    "    p - 1 * q - 1\n",
    "    \"\"\"   \n",
    "    return (p - 1) * (q - 1)\n",
    "\n",
    "\n",
    "def trobar_d(e:int, m:int)->int:\n",
    "    \"\"\"\n",
    "    Aquest funció retorna l'invers d'e eninput_file, output_file mòdul m\n",
    "\n",
    "    Parameters\n",
    "    ----------\n",
    "    e: el nombre del que busquem l'invers\n",
    "    m: el mòdul\n",
    "\n",
    "    Returns\n",
    "    -------\n",
    "    l'invers d'e mòdul m\n",
    "    \"\"\"   \n",
    "    d = 1\n",
    "    while (e * d) % m != 1:\n",
    "        d += 1\n",
    "    return d\n"
   ]
  },
  {
   "cell_type": "code",
   "execution_count": null,
   "id": "4d2a59be",
   "metadata": {},
   "outputs": [],
   "source": [
    "# Quan hagis trobat les claus prova de cridar la funció de desencriptar:\n",
    "\n",
    "# desencriptar_missatge([n,d],C)"
   ]
  },
  {
   "cell_type": "code",
   "execution_count": null,
   "id": "59fcaf0e",
   "metadata": {},
   "outputs": [],
   "source": [
    "# atenció executar aquesta cel.la  pot tardar molt de temps\n",
    "factoritzar(980985098032414123478974982374)"
   ]
  }
 ],
 "metadata": {
  "kernelspec": {
   "display_name": "Python 3",
   "language": "python",
   "name": "python3"
  },
  "language_info": {
   "codemirror_mode": {
    "name": "ipython",
    "version": 3
   },
   "file_extension": ".py",
   "mimetype": "text/x-python",
   "name": "python",
   "nbconvert_exporter": "python",
   "pygments_lexer": "ipython3",
   "version": "3.12.11"
  }
 },
 "nbformat": 4,
 "nbformat_minor": 5
}
