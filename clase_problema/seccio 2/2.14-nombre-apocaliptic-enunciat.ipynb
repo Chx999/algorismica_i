{
 "cells": [
  {
   "cell_type": "markdown",
   "metadata": {
    "id": "sRIAUJnxEjHM"
   },
   "source": [
    "# Capítol 2 - Algorismes bàsics de Python"
   ]
  },
  {
   "cell_type": "markdown",
   "metadata": {
    "id": "uiu88hZZEjHd"
   },
   "source": [
    "### 2.14 Nombres apocalíptics"
   ]
  },
  {
   "cell_type": "markdown",
   "metadata": {},
   "source": [
    "Un nombre $x$ és apocalíptic si $2^x$ conté la seqüència 666. Escriu una funció que determini si un nombre és apocalíptic o no. Desprès, una altra que doni una llista amb tots els nombres apocalíptics entre `minim` i `maxim`. Finalment, digues quants nombres apocalíptics menors que 5000 hi ha."
   ]
  },
  {
   "cell_type": "code",
   "execution_count": null,
   "metadata": {},
   "outputs": [],
   "source": [
    "num_ee = 2819831872398666\n",
    "num_ex = str(num_ee)\n",
    "if \"666\" in num_ex:\n",
    "    print(\"True\")\n",
    "\n",
    "num_ex.count(\"666\") #las veces que sale 666 en la cadena\n",
    "num_ex.find(\"666\")  #la posision de 666 en la cadena"
   ]
  },
  {
   "cell_type": "code",
   "execution_count": null,
   "metadata": {
    "id": "cbXiHGxbEjHd"
   },
   "outputs": [],
   "source": [
    "def apocaliptic(num: int) -> bool:\n",
    "    \"\"\"\n",
    "    Aquesta funció comprova si un nombre és apocalíptic.\n",
    "\n",
    "    Parameters\n",
    "    ----------\n",
    "    num: int\n",
    "        El número\n",
    "\n",
    "    Returns\n",
    "    -------\n",
    "    b: bool\n",
    "        Si el número és apocalíptic\n",
    "    \"\"\"\n",
    "    num_apocalitic = 2**num\n",
    "    num_apocalitic_str = str(num_apocalitic)\n",
    "    if num_apocalitic_str.count(\"666\") != 0:\n",
    "        return True\n",
    "    else:\n",
    "        return False\n",
    "\n",
    "\n",
    "# convertir el num en un str\n",
    "# mira si num tiene la secuencia 666\n",
    "# return el resultat\n",
    "\n",
    "\n",
    "def llista_apocaliptics(minim: int, maxim: int) -> list[int]:\n",
    "    \"\"\"\n",
    "    Aquesta funció calcula tots els nombres apocalíptics dintre d'un rang.\n",
    "\n",
    "    Parameters\n",
    "    ----------\n",
    "    minim: int\n",
    "        Cota inferior\n",
    "    maxim: int\n",
    "        Cota superior\n",
    "\n",
    "    Returns\n",
    "    -------\n",
    "    llista: list[int]\n",
    "        Llista amb tots els nombres apocalíptics dintre del rang\n",
    "    \"\"\"\n",
    "    lista_num_apocaliptics = []\n",
    "    for num in range(minim, maxim):\n",
    "        if apocaliptic(num):\n",
    "            lista_num_apocaliptics.append(num)\n",
    "\n",
    "    return lista_num_apocaliptics\n",
    "\n",
    "\n",
    "print(apocaliptic(157))\n",
    "print(llista_apocaliptics(100, 300))\n",
    "# Una lista para guardar los num apocalipticos\n",
    "# Iteracion for del minimo al maximo\n",
    "# comprueba si el num es apocaliptico\n",
    "# si lo es lo metemos en la lista\n",
    "# Retornar la lista\n"
   ]
  },
  {
   "cell_type": "code",
   "execution_count": null,
   "metadata": {
    "id": "tLm_osh_EjHd"
   },
   "outputs": [],
   "source": [
    "assert apocaliptic(157) == True\n",
    "assert apocaliptic(180) == False\n",
    "assert apocaliptic(192) == True\n",
    "assert llista_apocaliptics(100, 300) == [157, 192, 218, 220, 222, 224, 226, 243, 245, 247, 251, 278, 285, 286, 287]\n",
    "assert len(llista_apocaliptics(0, 5000)) ==  2253"
   ]
  }
 ],
 "metadata": {
  "colab": {
   "collapsed_sections": [],
   "name": "2.14.ipynb",
   "provenance": []
  },
  "kernelspec": {
   "display_name": "base",
   "language": "python",
   "name": "python3"
  },
  "language_info": {
   "codemirror_mode": {
    "name": "ipython",
    "version": 3
   },
   "file_extension": ".py",
   "mimetype": "text/x-python",
   "name": "python",
   "nbconvert_exporter": "python",
   "pygments_lexer": "ipython3",
   "version": "3.11.7"
  }
 },
 "nbformat": 4,
 "nbformat_minor": 0
}
