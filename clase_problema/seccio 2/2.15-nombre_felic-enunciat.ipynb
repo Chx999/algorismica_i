{
 "cells": [
  {
   "cell_type": "code",
   "execution_count": null,
   "id": "78566257",
   "metadata": {},
   "outputs": [],
   "source": [
    "from __future__ import annotations\n",
    "from typing import Any, List, Dict, Set, Tuple, Optional\n",
    "# Aquest notebook s'ha actualitzat per seguir PEP 8 i afegir anotacions de tipus bàsiques."
   ]
  },
  {
   "cell_type": "markdown",
   "metadata": {
    "id": "VcqZUgkVD4ZN"
   },
   "source": [
    "# Capítol 2 - Algorismes bàsics de Python"
   ]
  },
  {
   "cell_type": "markdown",
   "metadata": {
    "id": "zj1t4zXND4Ze"
   },
   "source": [
    "### 2.15 Nombres feliços"
   ]
  },
  {
   "cell_type": "markdown",
   "metadata": {},
   "source": [
    "Un nombre és feliç si en transformar-lo de manera iterativa en la suma dels quadrats dels seus dígits, fins que només quedi una xifra, acabem amb un 1. Per exemple 203:\n",
    "+ 203: $2^2 + 0^2 + 3^2 = 13$\n",
    "+ 13: $1^2 + 3^2 = 10$\n",
    "+ 10: $1^2 + 0^2 = 1$\n",
    "\n",
    "Atenció, si en algun punt la suma és 4 podem aturar perquè sabem que mai arribarà a 1 i a més entrarà en un bucle infinit.\n",
    "\n",
    "Escriu una funció que determini si un nombre és feliç."
   ]
  },
  {
   "cell_type": "code",
   "execution_count": null,
   "metadata": {
    "id": "-0sIsQhGD4Ze"
   },
   "outputs": [],
   "source": [
    "def felic(num:int) -> bool:\n",
    "    \"\"\"\n",
    "    Aquesta funció comprova si un nombre és feliç.\n",
    "    \n",
    "    Parameters\n",
    "    ----------\n",
    "    num: int\n",
    "        El número\n",
    "    \n",
    "    Returns\n",
    "    -------\n",
    "    b: bool\n",
    "        Si el número és feliç    \n",
    "    \"\"\""
   ]
  },
  {
   "cell_type": "code",
   "execution_count": null,
   "metadata": {
    "id": "8BFbMEOvD4Ze"
   },
   "outputs": [],
   "source": [
    "assert felic(203) == True\n",
    "assert felic(13) == True\n",
    "assert felic(10) == True\n",
    "assert felic(96) == False\n",
    "assert felic(33) == False"
   ]
  },
  {
   "cell_type": "code",
   "execution_count": null,
   "metadata": {
    "id": "aILfrExtD4Ze"
   },
   "outputs": [],
   "source": [
    "def felic_recursiu(num):\n",
    "    \"\"\"\n",
    "    Aquesta funció comprova si un nombre és feliç.\n",
    "    La implentació és recursiva.\n",
    "    \n",
    "    Parameters\n",
    "    ----------\n",
    "    num: int\n",
    "        El número\n",
    "    \n",
    "    Returns\n",
    "    -------\n",
    "    b: bool\n",
    "        Si el número és feliç    \n",
    "    \"\"\""
   ]
  },
  {
   "cell_type": "code",
   "execution_count": null,
   "metadata": {
    "id": "dkTS-MMbD4Zf"
   },
   "outputs": [],
   "source": [
    "assert felic_recursiu(203) == True\n",
    "assert felic_recursiu(13) == True\n",
    "assert felic_recursiu(10) == True\n",
    "assert felic_recursiu(96) == False\n",
    "assert felic_recursiu(33) == False\n"
   ]
  }
 ],
 "metadata": {
  "colab": {
   "collapsed_sections": [],
   "name": "2.15.ipynb",
   "provenance": []
  },
  "kernelspec": {
   "display_name": "base",
   "language": "python",
   "name": "python3"
  },
  "language_info": {
   "codemirror_mode": {
    "name": "ipython",
    "version": 3
   },
   "file_extension": ".py",
   "mimetype": "text/x-python",
   "name": "python",
   "nbconvert_exporter": "python",
   "pygments_lexer": "ipython3",
   "version": "3.11.7"
  }
 },
 "nbformat": 4,
 "nbformat_minor": 0
}
