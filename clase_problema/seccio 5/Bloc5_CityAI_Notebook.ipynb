{
 "cells": [
  {
   "cell_type": "markdown",
   "id": "a5f4417b",
   "metadata": {},
   "source": [
    "# 📘 CityAI – Cerca de textos a les subvencions públiques\n",
    "\n",
    "Aquest notebook utilitza dades obertes de l’Ajuntament de Barcelona per practicar conceptes d’algorísmica. En concret es treballaran els algorismes de cerca de text exacte i altres algorismes de manipulació de cadenes."
   ]
  },
  {
   "cell_type": "code",
   "execution_count": null,
   "id": "670b557b",
   "metadata": {},
   "outputs": [],
   "source": []
  },
  {
   "cell_type": "markdown",
   "id": "c5e7db40",
   "metadata": {},
   "source": [
    "## 🧠 Objectius\n",
    "\n",
    "Aprofundir en els algorismes vistos a teoria, i veure la seva aplicació en un cas real."
   ]
  },
  {
   "cell_type": "markdown",
   "id": "7dc45c0e",
   "metadata": {},
   "source": [
    "## ✍️ Exercici 1: LLegir les dades del fitxer i guardar-les en una llista\n",
    "\n",
    "L'Ajuntament de Barcelona guarda i publica les dades de les subvencions que concedeix en un fitxer públic. Aquest fitxer té les següents dades:\n",
    "+ L'entitat municipal que ha concedit la subvenció\n",
    "+ L'any en què s'ha concedit la subvenció\n",
    "+ La tipologia de subvenció\n",
    "+ L'objecte de la subvenció\n",
    "+ L'import sol.licitat\n",
    "\n",
    "*Nota*: Hem reduit el fitxer i simplificat les dades per facilitar  treballar-hi. Per aixo treballarem amb el fitxer SubvencionsReduitNetejat.csv"
   ]
  },
  {
   "cell_type": "markdown",
   "id": "fbd6681c-4da3-4d60-8e08-6c9109a78054",
   "metadata": {},
   "source": [
    "Escriu una funció que llegeixi les dades de SubvencionsReduitNetejat.csv i les guardi en una llista de llistes."
   ]
  },
  {
   "cell_type": "code",
   "execution_count": null,
   "id": "7672a826",
   "metadata": {},
   "outputs": [],
   "source": [
    "# dades = [[Ajunta,any, tipo de subvenció,descripcion, subvencion],[],[]]"
   ]
  },
  {
   "cell_type": "code",
   "execution_count": 19,
   "id": "02f05089-3243-40e1-b6bf-3893cc5f9397",
   "metadata": {},
   "outputs": [],
   "source": [
    "def llegir_dades(nom_fitxer:str)->list[list[any]]:\n",
    "    \"\"\"\n",
    "    Aquesta funció llegeix les dades dels fitxers de subvencions de l'Ajuntament \n",
    "    de Barcelona i retorna una llista de llistes\n",
    "    \n",
    "    Parameters\n",
    "    ----------\n",
    "    nom_fitxer:str\n",
    "    \n",
    "    Returns\n",
    "    -------\n",
    "    dades: list[list[any]]\n",
    "    \"\"\""
   ]
  },
  {
   "cell_type": "code",
   "execution_count": 21,
   "id": "a1f946b9-8e0e-4332-8a8b-87dc4b5083dc",
   "metadata": {},
   "outputs": [],
   "source": [
    "# ✅ Asserts públics\n",
    "dades = llegir_dades(\"SubvencionsReduitNetejat.csv\")\n",
    "assert(dades[5]==['Ajuntament de Barcelona', 2022, 'Convocatoria 2022 Impuls socioeconomic del territori IMPULSEM', 'L estiu Cooperatiu de Sant Marti', 400000])\n",
    "assert(dades[159]==['Ajuntament de Barcelona', 2017, 'CONVOCATORIA GENERAL DE SUBVENCIONS 2017  SANT ANDREU', 'CULTURA INTERBARRIAL', 12000])"
   ]
  },
  {
   "cell_type": "markdown",
   "id": "14db32ac",
   "metadata": {},
   "source": [
    "## ✍️ Exercici 2 – Subvencions d'un tema.\n",
    "\n",
    "Hi ha alguna subvenció relacionada amb els gegants? (cerca exacta per Horspool)\n",
    "\n",
    "Aplica l'algorisme de Horspool de teoria per buscar alguns temes específics dins dels objectes de  les subvencions. Els temes s'han de trobar tant si estan en majúscula com en minúscula.\n",
    "\n",
    "Prova de trobar \"gegant\", \"salud\", \"cultura\", \"teatre\", \"infancia\"\n",
    "\n",
    "Si els trobes retorna la fila de dades que els conté i destaca la seva aparació amb ** davant i ** darrera del text trobat.\n",
    "\n",
    "Per ex. buscar_patro(dades,\"gegant\") ha de retornar (mira codi Markdown)\n",
    "[['Ajuntament de Barcelona',\n",
    "  2019,\n",
    "  'CONVOCATORIA GENERAL DE SUBVENCIONS 2019. HORTA GUINARDO',\n",
    "  'Una **gegant**a  Carmela  i els seus cap grossos.',\n",
    "  46700]]\n",
    "\n",
    "Pots trobar una explicació detallada de l'algoritme de Hoorspol en aquest vídeo:  \n",
    "https://www.youtube.com/watch?v=PHXAOKQk2dw  \n",
    "(també anomenat algoritme de Boyer–Moore–Horspool, ja que és una simplificació de l'algoritme de Boyer-Moore)."
   ]
  },
  {
   "cell_type": "code",
   "execution_count": 22,
   "id": "59c18fb1",
   "metadata": {},
   "outputs": [],
   "source": [
    "def BoyerMooreHorspool(patro:str, text:str)->int:\n",
    "      "
   ]
  },
  {
   "cell_type": "code",
   "execution_count": 26,
   "id": "03d61b6c-4e7b-4173-b388-4c615a41c440",
   "metadata": {},
   "outputs": [
    {
     "data": {
      "text/plain": [
       "[['Ajuntament de Barcelona',\n",
       "  2019,\n",
       "  'CONVOCATORIA GENERAL DE SUBVENCIONS 2019  HORTA GUINARDO',\n",
       "  'Una **gegant**a  Carmela  i els seus cap grossos ',\n",
       "  46700]]"
      ]
     },
     "execution_count": 26,
     "metadata": {},
     "output_type": "execute_result"
    }
   ],
   "source": [
    "buscar_patro(dades,\"gegant\")"
   ]
  },
  {
   "cell_type": "code",
   "execution_count": 27,
   "id": "f0192e00",
   "metadata": {},
   "outputs": [],
   "source": [
    "# ✅ Asserts públics\n",
    "assert(buscar_patro(dades,\"infancia\")) == [['Ajuntament de Barcelona',\n",
    "  2017,\n",
    "  'AJUTS',\n",
    "  'Ajut del programa Promocio i participacio **infancia**',\n",
    "  52290],\n",
    " ['Ajuntament de Barcelona',\n",
    "  2017,\n",
    "  'AJUTS',\n",
    "  'Ajut del programa Promocio i participacio **infancia**',\n",
    "  53070],\n",
    " ['Ajuntament de Barcelona',\n",
    "  2018,\n",
    "  'AJUTS',\n",
    "  'Ajut del programa Promocio i participacio **infancia**',\n",
    "  47850],\n",
    " ['Ajuntament de Barcelona',\n",
    "  2017,\n",
    "  'AJUTS',\n",
    "  'Ajut del programa Promocio i participacio **infancia**',\n",
    "  3960]]"
   ]
  },
  {
   "cell_type": "markdown",
   "id": "3ffe9ae8-476e-4d67-b717-7196dfdc0d80",
   "metadata": {},
   "source": [
    "## ✍️ Exercici 3 – Abreviació d'entitats.\n",
    "\n",
    "Hi ha tantes subvencions que l'ajuntament ha decidit guardar els noms de les entitats que concedeixen els ajuts de forma abreujada, guardant només les seves inicials. Per exemple: Institut Municipal Barcelona Esports es guardarà com IMBE\n",
    "\n",
    "Escriu una funció que a partir d'una frase sense punts, comes, accents, números ni cap signe de puntuació, imprimeixi l'acrònim corresponent."
   ]
  },
  {
   "cell_type": "code",
   "execution_count": 31,
   "id": "1b9c1b7d-2a6c-4a43-8c20-ba5f2e81cd8f",
   "metadata": {},
   "outputs": [],
   "source": [
    "def acronim(frase):\n",
    "    \"\"\"\n",
    "    Aquesta funció retorna l'acrònim d'una frase.\n",
    "    \n",
    "    Parameters\n",
    "    ----------\n",
    "    frase: string\n",
    "    \n",
    "    Returns\n",
    "    -------\n",
    "    acronim: string\n",
    "    \"\"\"\n",
    "    return acronim"
   ]
  },
  {
   "cell_type": "code",
   "execution_count": 33,
   "id": "1a2f57d3-50ed-4cb6-b68a-51dc51229215",
   "metadata": {},
   "outputs": [],
   "source": [
    "# ✅ Asserts públics\n",
    "assert(acronim(\"Institut Municipal Barcelona Esports\")) == \"IMBE\"\n",
    "assert(acronim2(\"Institut Municipal Barcelona Esports\")) == \"IMBE\""
   ]
  },
  {
   "cell_type": "markdown",
   "id": "4a1c46a1-50de-4308-9bd6-d783950855de",
   "metadata": {},
   "source": [
    "## ✍️ Exercici 4 – Alfabet d'aviació\n",
    "\n",
    "Com que ara hi ha tantes sigles, sovint hi ha confusions per telèfon, i els responsables de l'ajuntament han adoptat l'alfabet de l'aviació per a comunicar-se."
   ]
  },
  {
   "cell_type": "markdown",
   "id": "451e2425-c18f-4c59-a35c-7970fe998e7f",
   "metadata": {},
   "source": [
    "Alfabet d'aviació:\n",
    "|   |   |   |   |   |\n",
    "|---|---|---|---|---|\n",
    "| A | B | C | D | E |\n",
    "| Alpha | Bravo | Charlie | Delta | Echo |\n",
    "| F | G | H | I | J |\n",
    "| Foxtrot | Golf | Hotel | India | Juliet |\n",
    "| K | L | M | N | O |\n",
    "| Kilo | Lima | Mike | November | Oscar |\n",
    "| P | Q | R | S | T |\n",
    "| Papa | Quebec | Romeo | Sierra | Tango |\n",
    "| U | V | W | X | Y |\n",
    "| Uniform | Victor | Whiskey | X-ray | Yankee |\n",
    "| Z |   |   |   |   |\n",
    "| Zulu |   |   |   |   |\n",
    "\n",
    "Escriu una funció que, usant un diccionari, converteixi una cadena de lletres a l'alfabet d'aviació, generant una llista de sortida.\n",
    "\n",
    "Per exemple: IMBE generarà la llista [India, Mike, Bravo, Echo]"
   ]
  },
  {
   "cell_type": "code",
   "execution_count": null,
   "id": "b0221006-a5e4-48c5-9431-0aa0d9f571ca",
   "metadata": {},
   "outputs": [],
   "source": [
    "def aviacio(cadena):\n",
    "    \"\"\"\n",
    "    Aquesta funció converteix una cadena d'entrada a l'alfabet fonètic.\n",
    "    \n",
    "    Parameters\n",
    "    ----------\n",
    "    cadena: string\n",
    "    \n",
    "    Returns\n",
    "    -------\n",
    "    traduccio: string\n",
    "    \"\"\"\n",
    "    alfabet_fonetica = {\n",
    "        'A': 'Alfa', 'B': 'Bravo', 'C': 'Charlie', 'D': 'Delta',\n",
    "        'E': 'Echo', 'F': 'Foxtrot', 'G': 'Golf', 'H': 'Hotel',\n",
    "        'I': 'India', 'J': 'Juliett', 'K': 'Kilo', 'L': 'Lima',\n",
    "        'M': 'Mike', 'N': 'November', 'O': 'Oscar', 'P': 'Papa',\n",
    "        'Q': 'Quebec', 'R': 'Romeo', 'S': 'Sierra', 'T': 'Tango',\n",
    "        'U': 'Uniform', 'V': 'Victor', 'W': 'Whiskey', 'X': 'X-ray',\n",
    "        'Y': 'Yankee', 'Z': 'Zulu',\n",
    "        '0': 'Zero', '1': 'One', '2': 'Two', '3': 'Three',\n",
    "        '4': 'Four', '5': 'Five', '6': 'Six', '7': 'Seven', '8': 'Eight', '9': 'Nine',\n",
    "        ' ': 'Space', '.': 'Stop', ',': 'Comma'\n",
    "    }   \n",
    "\n",
    "    traduccio = \"\"\n",
    "    for lletra in cadena:\n",
    "        if lletra in alfabet_fonetica:\n",
    "            traduccio += alfabet_fonetica[lletra] + \" \"\n",
    "        else:\n",
    "            traduccio += lletra + \" \"\n",
    "    return traduccio"
   ]
  },
  {
   "cell_type": "code",
   "execution_count": 37,
   "id": "ff7fb96b-41fd-44c4-b033-3bbb7ab68b3a",
   "metadata": {},
   "outputs": [],
   "source": [
    "# ✅ Asserts públics\n",
    "assert aviacio('YtH') == ['Yankee', 'Tango', 'Hotel']"
   ]
  }
 ],
 "metadata": {
  "kernelspec": {
   "display_name": "Python 3",
   "language": "python",
   "name": "python3"
  },
  "language_info": {
   "codemirror_mode": {
    "name": "ipython",
    "version": 3
   },
   "file_extension": ".py",
   "mimetype": "text/x-python",
   "name": "python",
   "nbconvert_exporter": "python",
   "pygments_lexer": "ipython3",
   "version": "3.10.12"
  }
 },
 "nbformat": 4,
 "nbformat_minor": 5
}
